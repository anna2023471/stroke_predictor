{
 "cells": [
  {
   "cell_type": "markdown",
   "id": "895e2b6d",
   "metadata": {},
   "source": [
    "# Using stroke dataset from Kaggle, create and train a model to predict whether an individual is at risk of stroke"
   ]
  },
  {
   "cell_type": "code",
   "execution_count": 1,
   "id": "7013914f",
   "metadata": {},
   "outputs": [],
   "source": [
    "# Import Pandas and Marplotlib\n",
    "import pandas as pd\n",
    "import matplotlib.pyplot as plt"
   ]
  },
  {
   "cell_type": "markdown",
   "id": "549813e2",
   "metadata": {},
   "source": [
    "## Import and clean the data"
   ]
  },
  {
   "cell_type": "code",
   "execution_count": 2,
   "id": "1e7c478c",
   "metadata": {},
   "outputs": [],
   "source": [
    "# Read in the csv and convert to DataFrame\n",
    "data = pd.read_csv(\"data/stroke_dataset.csv\")"
   ]
  },
  {
   "cell_type": "code",
   "execution_count": 3,
   "id": "56e57fff",
   "metadata": {},
   "outputs": [
    {
     "data": {
      "text/html": [
       "<div>\n",
       "<style scoped>\n",
       "    .dataframe tbody tr th:only-of-type {\n",
       "        vertical-align: middle;\n",
       "    }\n",
       "\n",
       "    .dataframe tbody tr th {\n",
       "        vertical-align: top;\n",
       "    }\n",
       "\n",
       "    .dataframe thead th {\n",
       "        text-align: right;\n",
       "    }\n",
       "</style>\n",
       "<table border=\"1\" class=\"dataframe\">\n",
       "  <thead>\n",
       "    <tr style=\"text-align: right;\">\n",
       "      <th></th>\n",
       "      <th>sex</th>\n",
       "      <th>age</th>\n",
       "      <th>hypertension</th>\n",
       "      <th>heart_disease</th>\n",
       "      <th>ever_married</th>\n",
       "      <th>work_type</th>\n",
       "      <th>Residence_type</th>\n",
       "      <th>avg_glucose_level</th>\n",
       "      <th>bmi</th>\n",
       "      <th>smoking_status</th>\n",
       "      <th>stroke</th>\n",
       "    </tr>\n",
       "  </thead>\n",
       "  <tbody>\n",
       "    <tr>\n",
       "      <th>0</th>\n",
       "      <td>1.0</td>\n",
       "      <td>63</td>\n",
       "      <td>0</td>\n",
       "      <td>1</td>\n",
       "      <td>1</td>\n",
       "      <td>4</td>\n",
       "      <td>1</td>\n",
       "      <td>228.69</td>\n",
       "      <td>36.6</td>\n",
       "      <td>1</td>\n",
       "      <td>1</td>\n",
       "    </tr>\n",
       "    <tr>\n",
       "      <th>1</th>\n",
       "      <td>1.0</td>\n",
       "      <td>42</td>\n",
       "      <td>0</td>\n",
       "      <td>1</td>\n",
       "      <td>1</td>\n",
       "      <td>4</td>\n",
       "      <td>0</td>\n",
       "      <td>105.92</td>\n",
       "      <td>32.5</td>\n",
       "      <td>0</td>\n",
       "      <td>1</td>\n",
       "    </tr>\n",
       "    <tr>\n",
       "      <th>2</th>\n",
       "      <td>0.0</td>\n",
       "      <td>61</td>\n",
       "      <td>0</td>\n",
       "      <td>0</td>\n",
       "      <td>1</td>\n",
       "      <td>4</td>\n",
       "      <td>1</td>\n",
       "      <td>171.23</td>\n",
       "      <td>34.4</td>\n",
       "      <td>1</td>\n",
       "      <td>1</td>\n",
       "    </tr>\n",
       "    <tr>\n",
       "      <th>3</th>\n",
       "      <td>1.0</td>\n",
       "      <td>41</td>\n",
       "      <td>1</td>\n",
       "      <td>0</td>\n",
       "      <td>1</td>\n",
       "      <td>3</td>\n",
       "      <td>0</td>\n",
       "      <td>174.12</td>\n",
       "      <td>24.0</td>\n",
       "      <td>0</td>\n",
       "      <td>1</td>\n",
       "    </tr>\n",
       "    <tr>\n",
       "      <th>4</th>\n",
       "      <td>1.0</td>\n",
       "      <td>85</td>\n",
       "      <td>0</td>\n",
       "      <td>0</td>\n",
       "      <td>1</td>\n",
       "      <td>4</td>\n",
       "      <td>1</td>\n",
       "      <td>186.21</td>\n",
       "      <td>29.0</td>\n",
       "      <td>1</td>\n",
       "      <td>1</td>\n",
       "    </tr>\n",
       "    <tr>\n",
       "      <th>...</th>\n",
       "      <td>...</td>\n",
       "      <td>...</td>\n",
       "      <td>...</td>\n",
       "      <td>...</td>\n",
       "      <td>...</td>\n",
       "      <td>...</td>\n",
       "      <td>...</td>\n",
       "      <td>...</td>\n",
       "      <td>...</td>\n",
       "      <td>...</td>\n",
       "      <td>...</td>\n",
       "    </tr>\n",
       "    <tr>\n",
       "      <th>40905</th>\n",
       "      <td>1.0</td>\n",
       "      <td>38</td>\n",
       "      <td>0</td>\n",
       "      <td>0</td>\n",
       "      <td>0</td>\n",
       "      <td>4</td>\n",
       "      <td>1</td>\n",
       "      <td>120.94</td>\n",
       "      <td>29.7</td>\n",
       "      <td>1</td>\n",
       "      <td>0</td>\n",
       "    </tr>\n",
       "    <tr>\n",
       "      <th>40906</th>\n",
       "      <td>0.0</td>\n",
       "      <td>53</td>\n",
       "      <td>0</td>\n",
       "      <td>0</td>\n",
       "      <td>1</td>\n",
       "      <td>4</td>\n",
       "      <td>0</td>\n",
       "      <td>77.66</td>\n",
       "      <td>40.8</td>\n",
       "      <td>0</td>\n",
       "      <td>0</td>\n",
       "    </tr>\n",
       "    <tr>\n",
       "      <th>40907</th>\n",
       "      <td>1.0</td>\n",
       "      <td>32</td>\n",
       "      <td>0</td>\n",
       "      <td>0</td>\n",
       "      <td>1</td>\n",
       "      <td>2</td>\n",
       "      <td>0</td>\n",
       "      <td>231.95</td>\n",
       "      <td>33.2</td>\n",
       "      <td>0</td>\n",
       "      <td>0</td>\n",
       "    </tr>\n",
       "    <tr>\n",
       "      <th>40908</th>\n",
       "      <td>1.0</td>\n",
       "      <td>42</td>\n",
       "      <td>0</td>\n",
       "      <td>0</td>\n",
       "      <td>1</td>\n",
       "      <td>3</td>\n",
       "      <td>0</td>\n",
       "      <td>216.38</td>\n",
       "      <td>34.5</td>\n",
       "      <td>0</td>\n",
       "      <td>0</td>\n",
       "    </tr>\n",
       "    <tr>\n",
       "      <th>40909</th>\n",
       "      <td>1.0</td>\n",
       "      <td>35</td>\n",
       "      <td>0</td>\n",
       "      <td>0</td>\n",
       "      <td>0</td>\n",
       "      <td>4</td>\n",
       "      <td>0</td>\n",
       "      <td>95.01</td>\n",
       "      <td>28.0</td>\n",
       "      <td>0</td>\n",
       "      <td>0</td>\n",
       "    </tr>\n",
       "  </tbody>\n",
       "</table>\n",
       "<p>40910 rows × 11 columns</p>\n",
       "</div>"
      ],
      "text/plain": [
       "       sex  age  hypertension  heart_disease  ever_married  work_type  \\\n",
       "0      1.0   63             0              1             1          4   \n",
       "1      1.0   42             0              1             1          4   \n",
       "2      0.0   61             0              0             1          4   \n",
       "3      1.0   41             1              0             1          3   \n",
       "4      1.0   85             0              0             1          4   \n",
       "...    ...  ...           ...            ...           ...        ...   \n",
       "40905  1.0   38             0              0             0          4   \n",
       "40906  0.0   53             0              0             1          4   \n",
       "40907  1.0   32             0              0             1          2   \n",
       "40908  1.0   42             0              0             1          3   \n",
       "40909  1.0   35             0              0             0          4   \n",
       "\n",
       "       Residence_type  avg_glucose_level   bmi  smoking_status  stroke  \n",
       "0                   1             228.69  36.6               1       1  \n",
       "1                   0             105.92  32.5               0       1  \n",
       "2                   1             171.23  34.4               1       1  \n",
       "3                   0             174.12  24.0               0       1  \n",
       "4                   1             186.21  29.0               1       1  \n",
       "...               ...                ...   ...             ...     ...  \n",
       "40905               1             120.94  29.7               1       0  \n",
       "40906               0              77.66  40.8               0       0  \n",
       "40907               0             231.95  33.2               0       0  \n",
       "40908               0             216.38  34.5               0       0  \n",
       "40909               0              95.01  28.0               0       0  \n",
       "\n",
       "[40910 rows x 11 columns]"
      ]
     },
     "execution_count": 3,
     "metadata": {},
     "output_type": "execute_result"
    }
   ],
   "source": [
    "# Preview DataFrame\n",
    "data"
   ]
  },
  {
   "cell_type": "code",
   "execution_count": 4,
   "id": "3f873821",
   "metadata": {},
   "outputs": [
    {
     "data": {
      "text/plain": [
       "sex                   True\n",
       "age                  False\n",
       "hypertension         False\n",
       "heart_disease        False\n",
       "ever_married         False\n",
       "work_type            False\n",
       "Residence_type       False\n",
       "avg_glucose_level    False\n",
       "bmi                  False\n",
       "smoking_status       False\n",
       "stroke               False\n",
       "dtype: bool"
      ]
     },
     "execution_count": 4,
     "metadata": {},
     "output_type": "execute_result"
    }
   ],
   "source": [
    "# Check for null values\n",
    "data.isna().any()"
   ]
  },
  {
   "cell_type": "code",
   "execution_count": 5,
   "id": "77446684",
   "metadata": {},
   "outputs": [],
   "source": [
    "# Drop all null values\n",
    "data.dropna(inplace=True, how=\"any\")"
   ]
  },
  {
   "cell_type": "code",
   "execution_count": 6,
   "id": "8d9cad5c",
   "metadata": {},
   "outputs": [
    {
     "data": {
      "text/plain": [
       "sex                  False\n",
       "age                  False\n",
       "hypertension         False\n",
       "heart_disease        False\n",
       "ever_married         False\n",
       "work_type            False\n",
       "Residence_type       False\n",
       "avg_glucose_level    False\n",
       "bmi                  False\n",
       "smoking_status       False\n",
       "stroke               False\n",
       "dtype: bool"
      ]
     },
     "execution_count": 6,
     "metadata": {},
     "output_type": "execute_result"
    }
   ],
   "source": [
    "# Check for null values again\n",
    "data.isna().any()"
   ]
  },
  {
   "cell_type": "code",
   "execution_count": 7,
   "id": "3873d31d",
   "metadata": {},
   "outputs": [
    {
     "data": {
      "text/html": [
       "<div>\n",
       "<style scoped>\n",
       "    .dataframe tbody tr th:only-of-type {\n",
       "        vertical-align: middle;\n",
       "    }\n",
       "\n",
       "    .dataframe tbody tr th {\n",
       "        vertical-align: top;\n",
       "    }\n",
       "\n",
       "    .dataframe thead th {\n",
       "        text-align: right;\n",
       "    }\n",
       "</style>\n",
       "<table border=\"1\" class=\"dataframe\">\n",
       "  <thead>\n",
       "    <tr style=\"text-align: right;\">\n",
       "      <th></th>\n",
       "      <th>sex</th>\n",
       "      <th>age</th>\n",
       "      <th>hypertension</th>\n",
       "      <th>heart_disease</th>\n",
       "      <th>ever_married</th>\n",
       "      <th>work_type</th>\n",
       "      <th>Residence_type</th>\n",
       "      <th>avg_glucose_level</th>\n",
       "      <th>bmi</th>\n",
       "      <th>smoking_status</th>\n",
       "      <th>stroke</th>\n",
       "    </tr>\n",
       "  </thead>\n",
       "  <tbody>\n",
       "    <tr>\n",
       "      <th>0</th>\n",
       "      <td>1.0</td>\n",
       "      <td>63</td>\n",
       "      <td>0</td>\n",
       "      <td>1</td>\n",
       "      <td>1</td>\n",
       "      <td>4</td>\n",
       "      <td>1</td>\n",
       "      <td>228.69</td>\n",
       "      <td>36.6</td>\n",
       "      <td>1</td>\n",
       "      <td>1</td>\n",
       "    </tr>\n",
       "    <tr>\n",
       "      <th>1</th>\n",
       "      <td>1.0</td>\n",
       "      <td>42</td>\n",
       "      <td>0</td>\n",
       "      <td>1</td>\n",
       "      <td>1</td>\n",
       "      <td>4</td>\n",
       "      <td>0</td>\n",
       "      <td>105.92</td>\n",
       "      <td>32.5</td>\n",
       "      <td>0</td>\n",
       "      <td>1</td>\n",
       "    </tr>\n",
       "    <tr>\n",
       "      <th>2</th>\n",
       "      <td>0.0</td>\n",
       "      <td>61</td>\n",
       "      <td>0</td>\n",
       "      <td>0</td>\n",
       "      <td>1</td>\n",
       "      <td>4</td>\n",
       "      <td>1</td>\n",
       "      <td>171.23</td>\n",
       "      <td>34.4</td>\n",
       "      <td>1</td>\n",
       "      <td>1</td>\n",
       "    </tr>\n",
       "    <tr>\n",
       "      <th>3</th>\n",
       "      <td>1.0</td>\n",
       "      <td>41</td>\n",
       "      <td>1</td>\n",
       "      <td>0</td>\n",
       "      <td>1</td>\n",
       "      <td>3</td>\n",
       "      <td>0</td>\n",
       "      <td>174.12</td>\n",
       "      <td>24.0</td>\n",
       "      <td>0</td>\n",
       "      <td>1</td>\n",
       "    </tr>\n",
       "    <tr>\n",
       "      <th>4</th>\n",
       "      <td>1.0</td>\n",
       "      <td>85</td>\n",
       "      <td>0</td>\n",
       "      <td>0</td>\n",
       "      <td>1</td>\n",
       "      <td>4</td>\n",
       "      <td>1</td>\n",
       "      <td>186.21</td>\n",
       "      <td>29.0</td>\n",
       "      <td>1</td>\n",
       "      <td>1</td>\n",
       "    </tr>\n",
       "    <tr>\n",
       "      <th>...</th>\n",
       "      <td>...</td>\n",
       "      <td>...</td>\n",
       "      <td>...</td>\n",
       "      <td>...</td>\n",
       "      <td>...</td>\n",
       "      <td>...</td>\n",
       "      <td>...</td>\n",
       "      <td>...</td>\n",
       "      <td>...</td>\n",
       "      <td>...</td>\n",
       "      <td>...</td>\n",
       "    </tr>\n",
       "    <tr>\n",
       "      <th>40902</th>\n",
       "      <td>1.0</td>\n",
       "      <td>38</td>\n",
       "      <td>0</td>\n",
       "      <td>0</td>\n",
       "      <td>0</td>\n",
       "      <td>4</td>\n",
       "      <td>1</td>\n",
       "      <td>120.94</td>\n",
       "      <td>29.7</td>\n",
       "      <td>1</td>\n",
       "      <td>0</td>\n",
       "    </tr>\n",
       "    <tr>\n",
       "      <th>40903</th>\n",
       "      <td>0.0</td>\n",
       "      <td>53</td>\n",
       "      <td>0</td>\n",
       "      <td>0</td>\n",
       "      <td>1</td>\n",
       "      <td>4</td>\n",
       "      <td>0</td>\n",
       "      <td>77.66</td>\n",
       "      <td>40.8</td>\n",
       "      <td>0</td>\n",
       "      <td>0</td>\n",
       "    </tr>\n",
       "    <tr>\n",
       "      <th>40904</th>\n",
       "      <td>1.0</td>\n",
       "      <td>32</td>\n",
       "      <td>0</td>\n",
       "      <td>0</td>\n",
       "      <td>1</td>\n",
       "      <td>2</td>\n",
       "      <td>0</td>\n",
       "      <td>231.95</td>\n",
       "      <td>33.2</td>\n",
       "      <td>0</td>\n",
       "      <td>0</td>\n",
       "    </tr>\n",
       "    <tr>\n",
       "      <th>40905</th>\n",
       "      <td>1.0</td>\n",
       "      <td>42</td>\n",
       "      <td>0</td>\n",
       "      <td>0</td>\n",
       "      <td>1</td>\n",
       "      <td>3</td>\n",
       "      <td>0</td>\n",
       "      <td>216.38</td>\n",
       "      <td>34.5</td>\n",
       "      <td>0</td>\n",
       "      <td>0</td>\n",
       "    </tr>\n",
       "    <tr>\n",
       "      <th>40906</th>\n",
       "      <td>1.0</td>\n",
       "      <td>35</td>\n",
       "      <td>0</td>\n",
       "      <td>0</td>\n",
       "      <td>0</td>\n",
       "      <td>4</td>\n",
       "      <td>0</td>\n",
       "      <td>95.01</td>\n",
       "      <td>28.0</td>\n",
       "      <td>0</td>\n",
       "      <td>0</td>\n",
       "    </tr>\n",
       "  </tbody>\n",
       "</table>\n",
       "<p>40907 rows × 11 columns</p>\n",
       "</div>"
      ],
      "text/plain": [
       "       sex  age  hypertension  heart_disease  ever_married  work_type  \\\n",
       "0      1.0   63             0              1             1          4   \n",
       "1      1.0   42             0              1             1          4   \n",
       "2      0.0   61             0              0             1          4   \n",
       "3      1.0   41             1              0             1          3   \n",
       "4      1.0   85             0              0             1          4   \n",
       "...    ...  ...           ...            ...           ...        ...   \n",
       "40902  1.0   38             0              0             0          4   \n",
       "40903  0.0   53             0              0             1          4   \n",
       "40904  1.0   32             0              0             1          2   \n",
       "40905  1.0   42             0              0             1          3   \n",
       "40906  1.0   35             0              0             0          4   \n",
       "\n",
       "       Residence_type  avg_glucose_level   bmi  smoking_status  stroke  \n",
       "0                   1             228.69  36.6               1       1  \n",
       "1                   0             105.92  32.5               0       1  \n",
       "2                   1             171.23  34.4               1       1  \n",
       "3                   0             174.12  24.0               0       1  \n",
       "4                   1             186.21  29.0               1       1  \n",
       "...               ...                ...   ...             ...     ...  \n",
       "40902               1             120.94  29.7               1       0  \n",
       "40903               0              77.66  40.8               0       0  \n",
       "40904               0             231.95  33.2               0       0  \n",
       "40905               0             216.38  34.5               0       0  \n",
       "40906               0              95.01  28.0               0       0  \n",
       "\n",
       "[40907 rows x 11 columns]"
      ]
     },
     "execution_count": 7,
     "metadata": {},
     "output_type": "execute_result"
    }
   ],
   "source": [
    "# Reset index and preview\n",
    "data.reset_index(inplace=True, drop=True)\n",
    "data"
   ]
  },
  {
   "cell_type": "markdown",
   "id": "82788aae",
   "metadata": {},
   "source": [
    "## Explore the data"
   ]
  },
  {
   "cell_type": "code",
   "execution_count": 21,
   "id": "7bba5ab6",
   "metadata": {},
   "outputs": [
    {
     "data": {
      "image/png": "[encoded data removed]",
      "text/plain": [
       "<Figure size 640x480 with 1 Axes>"
      ]
     },
     "metadata": {},
     "output_type": "display_data"
    }
   ],
   "source": [
    "# Check if data balanced by outcome (number of records with each outcome)\n",
    "outcome_counts = data.groupby(\"stroke\").count().reset_index()\n",
    "x_axis = outcome_counts[\"stroke\"]\n",
    "plt.bar(x_axis.astype(str), outcome_counts[\"hypertension\"])\n",
    "labels = [\"no-stroke\", \"stroke\"]\n",
    "plt.xticks(x_axis, labels, rotation='horizontal', size=16)\n",
    "plt.ylabel(\"Count of records\")\n",
    "plt.savefig(\"figures/by_condition.png\")\n",
    "plt.show()"
   ]
  },
  {
   "cell_type": "code",
   "execution_count": 19,
   "id": "431f0e3e",
   "metadata": {},
   "outputs": [
    {
     "data": {
      "image/png": "[encoded data removed]",
      "text/plain": [
       "<Figure size 640x480 with 1 Axes>"
      ]
     },
     "metadata": {},
     "output_type": "display_data"
    }
   ],
   "source": [
    "# Check if data balanced by gender (total number of males and females)\n",
    "outcome_counts = data.groupby(\"sex\").count().reset_index()\n",
    "x_axis = outcome_counts[\"sex\"]\n",
    "plt.bar(x_axis.astype(str), outcome_counts[\"hypertension\"])\n",
    "labels = [\"female\", \"male\"]\n",
    "plt.xticks(x_axis, labels, rotation='horizontal', size=16)\n",
    "plt.ylabel(\"Count of records\")\n",
    "plt.savefig(\"figures/by_sex_overall.png\")\n",
    "plt.show()"
   ]
  },
  {
   "cell_type": "code",
   "execution_count": 20,
   "id": "9244ff2d",
   "metadata": {},
   "outputs": [
    {
     "data": {
      "image/png": "[encoded data removed]",
      "text/plain": [
       "<Figure size 700x500 with 1 Axes>"
      ]
     },
     "metadata": {},
     "output_type": "display_data"
    }
   ],
   "source": [
    "# Check sex distribution by condition\n",
    "sex_counts = (data\n",
    "      .groupby(\"sex\")[\"stroke\"]\n",
    "      .value_counts(normalize=True)\n",
    "      .mul(100)\n",
    "      .round(2)\n",
    "      .unstack())\n",
    "\n",
    "fig, ax = plt.subplots(figsize = (7,5))\n",
    "ax.bar(sex_counts.index.astype(str), sex_counts[0], label = \"No-Stroke\", width = 0.3) \n",
    "ax.bar(sex_counts.index.astype(str), sex_counts[1], bottom = sex_counts[0], label = \"Stroke\", width = 0.3)\n",
    "\n",
    "ax.tick_params(labelsize = 14, labelrotation = 0)\n",
    "\n",
    "labels = [\"female\", \"male\"]\n",
    "plt.xticks(x_axis, labels, rotation='horizontal')\n",
    "\n",
    "ax.set_ylabel(\"%\", size = 16)\n",
    "\n",
    "ax.legend(labels = [\"no\", \"yes\"],\n",
    "          fontsize = 12,\n",
    "          title = \"Stroke\",\n",
    "          title_fontsize = 18,\n",
    "          bbox_to_anchor = [0.6, 0.7])\n",
    "\n",
    "plt.savefig(\"figures/by_sex.png\")\n",
    "plt.show()"
   ]
  },
  {
   "cell_type": "code",
   "execution_count": 10,
   "id": "a4eb0273",
   "metadata": {},
   "outputs": [
    {
     "data": {
      "image/png": "[encoded data removed]",
      "text/plain": [
       "<Figure size 640x480 with 1 Axes>"
      ]
     },
     "metadata": {},
     "output_type": "display_data"
    }
   ],
   "source": [
    "# Check for correlation between age and BMI\n",
    "age = data[\"age\"]\n",
    "bmi = data[\"bmi\"]\n",
    "plt.scatter(age, bmi)\n",
    "plt.show()"
   ]
  },
  {
   "cell_type": "code",
   "execution_count": 11,
   "id": "2c3e94c8",
   "metadata": {},
   "outputs": [
    {
     "data": {
      "image/png": "[encoded data removed]",
      "text/plain": [
       "<Figure size 640x480 with 1 Axes>"
      ]
     },
     "metadata": {},
     "output_type": "display_data"
    }
   ],
   "source": [
    "# Check for correlation between age and glucose\n",
    "age = data[\"age\"]\n",
    "glucose = data[\"avg_glucose_level\"]\n",
    "plt.scatter(age, glucose)\n",
    "plt.show()"
   ]
  },
  {
   "cell_type": "code",
   "execution_count": 12,
   "id": "0faa8aa7",
   "metadata": {},
   "outputs": [
    {
     "data": {
      "text/plain": [
       "<function matplotlib.pyplot.show(close=None, block=None)>"
      ]
     },
     "execution_count": 12,
     "metadata": {},
     "output_type": "execute_result"
    },
    {
     "data": {
      "image/png": "[encoded data removed]",
      "text/plain": [
       "<Figure size 640x480 with 1 Axes>"
      ]
     },
     "metadata": {},
     "output_type": "display_data"
    }
   ],
   "source": [
    "# Check for correlation between BMI and glucose\n",
    "bmi = data[\"bmi\"]\n",
    "glucose = data[\"avg_glucose_level\"]\n",
    "plt.scatter(bmi, glucose)\n",
    "plt.show"
   ]
  },
  {
   "cell_type": "markdown",
   "id": "71ae72dd",
   "metadata": {},
   "source": [
    "## Create a Logistic Regression model to predict risk of stroke"
   ]
  },
  {
   "cell_type": "code",
   "execution_count": 13,
   "id": "89e1bd65",
   "metadata": {},
   "outputs": [],
   "source": [
    "# Create features array by dropping the target and irrelevant variables\n",
    "X = data.drop(columns=[\"ever_married\", \"work_type\", \"Residence_type\", \"stroke\"])\n",
    "\n",
    "# Create target array by isolating target variable\n",
    "y = data[\"stroke\"]"
   ]
  },
  {
   "cell_type": "code",
   "execution_count": 14,
   "id": "20ea6ecb",
   "metadata": {},
   "outputs": [
    {
     "data": {
      "text/html": [
       "<div>\n",
       "<style scoped>\n",
       "    .dataframe tbody tr th:only-of-type {\n",
       "        vertical-align: middle;\n",
       "    }\n",
       "\n",
       "    .dataframe tbody tr th {\n",
       "        vertical-align: top;\n",
       "    }\n",
       "\n",
       "    .dataframe thead th {\n",
       "        text-align: right;\n",
       "    }\n",
       "</style>\n",
       "<table border=\"1\" class=\"dataframe\">\n",
       "  <thead>\n",
       "    <tr style=\"text-align: right;\">\n",
       "      <th></th>\n",
       "      <th>sex</th>\n",
       "      <th>age</th>\n",
       "      <th>hypertension</th>\n",
       "      <th>heart_disease</th>\n",
       "      <th>avg_glucose_level</th>\n",
       "      <th>bmi</th>\n",
       "      <th>smoking_status</th>\n",
       "    </tr>\n",
       "  </thead>\n",
       "  <tbody>\n",
       "    <tr>\n",
       "      <th>0</th>\n",
       "      <td>1.0</td>\n",
       "      <td>63</td>\n",
       "      <td>0</td>\n",
       "      <td>1</td>\n",
       "      <td>228.69</td>\n",
       "      <td>36.6</td>\n",
       "      <td>1</td>\n",
       "    </tr>\n",
       "    <tr>\n",
       "      <th>1</th>\n",
       "      <td>1.0</td>\n",
       "      <td>42</td>\n",
       "      <td>0</td>\n",
       "      <td>1</td>\n",
       "      <td>105.92</td>\n",
       "      <td>32.5</td>\n",
       "      <td>0</td>\n",
       "    </tr>\n",
       "    <tr>\n",
       "      <th>2</th>\n",
       "      <td>0.0</td>\n",
       "      <td>61</td>\n",
       "      <td>0</td>\n",
       "      <td>0</td>\n",
       "      <td>171.23</td>\n",
       "      <td>34.4</td>\n",
       "      <td>1</td>\n",
       "    </tr>\n",
       "    <tr>\n",
       "      <th>3</th>\n",
       "      <td>1.0</td>\n",
       "      <td>41</td>\n",
       "      <td>1</td>\n",
       "      <td>0</td>\n",
       "      <td>174.12</td>\n",
       "      <td>24.0</td>\n",
       "      <td>0</td>\n",
       "    </tr>\n",
       "    <tr>\n",
       "      <th>4</th>\n",
       "      <td>1.0</td>\n",
       "      <td>85</td>\n",
       "      <td>0</td>\n",
       "      <td>0</td>\n",
       "      <td>186.21</td>\n",
       "      <td>29.0</td>\n",
       "      <td>1</td>\n",
       "    </tr>\n",
       "  </tbody>\n",
       "</table>\n",
       "</div>"
      ],
      "text/plain": [
       "   sex  age  hypertension  heart_disease  avg_glucose_level   bmi  \\\n",
       "0  1.0   63             0              1             228.69  36.6   \n",
       "1  1.0   42             0              1             105.92  32.5   \n",
       "2  0.0   61             0              0             171.23  34.4   \n",
       "3  1.0   41             1              0             174.12  24.0   \n",
       "4  1.0   85             0              0             186.21  29.0   \n",
       "\n",
       "   smoking_status  \n",
       "0               1  \n",
       "1               0  \n",
       "2               1  \n",
       "3               0  \n",
       "4               1  "
      ]
     },
     "execution_count": 14,
     "metadata": {},
     "output_type": "execute_result"
    }
   ],
   "source": [
    "# Preview features array\n",
    "X.head()"
   ]
  },
  {
   "cell_type": "code",
   "execution_count": 15,
   "id": "26c50443",
   "metadata": {},
   "outputs": [
    {
     "data": {
      "text/plain": [
       "0    1\n",
       "1    1\n",
       "2    1\n",
       "3    1\n",
       "4    1\n",
       "5    1\n",
       "Name: stroke, dtype: int64"
      ]
     },
     "execution_count": 15,
     "metadata": {},
     "output_type": "execute_result"
    }
   ],
   "source": [
    "# Preview target array\n",
    "y.loc[:5]"
   ]
  },
  {
   "cell_type": "code",
   "execution_count": 16,
   "id": "aa7b6f9c",
   "metadata": {},
   "outputs": [],
   "source": [
    "# Create train and test sets\n",
    "from sklearn.model_selection import train_test_split\n",
    "X_train, X_test, y_train, y_test = train_test_split(X, y, random_state=1, stratify=y)"
   ]
  },
  {
   "cell_type": "code",
   "execution_count": 17,
   "id": "73cced86",
   "metadata": {},
   "outputs": [
    {
     "data": {
      "text/html": [
       "<style>#sk-container-id-1 {color: black;}#sk-container-id-1 pre{padding: 0;}#sk-container-id-1 div.sk-toggleable {background-color: white;}#sk-container-id-1 label.sk-toggleable__label {cursor: pointer;display: block;width: 100%;margin-bottom: 0;padding: 0.3em;box-sizing: border-box;text-align: center;}#sk-container-id-1 label.sk-toggleable__label-arrow:before {content: \"▸\";float: left;margin-right: 0.25em;color: #696969;}#sk-container-id-1 label.sk-toggleable__label-arrow:hover:before {color: black;}#sk-container-id-1 div.sk-estimator:hover label.sk-toggleable__label-arrow:before {color: black;}#sk-container-id-1 div.sk-toggleable__content {max-height: 0;max-width: 0;overflow: hidden;text-align: left;background-color: #f0f8ff;}#sk-container-id-1 div.sk-toggleable__content pre {margin: 0.2em;color: black;border-radius: 0.25em;background-color: #f0f8ff;}#sk-container-id-1 input.sk-toggleable__control:checked~div.sk-toggleable__content {max-height: 200px;max-width: 100%;overflow: auto;}#sk-container-id-1 input.sk-toggleable__control:checked~label.sk-toggleable__label-arrow:before {content: \"▾\";}#sk-container-id-1 div.sk-estimator input.sk-toggleable__control:checked~label.sk-toggleable__label {background-color: #d4ebff;}#sk-container-id-1 div.sk-label input.sk-toggleable__control:checked~label.sk-toggleable__label {background-color: #d4ebff;}#sk-container-id-1 input.sk-hidden--visually {border: 0;clip: rect(1px 1px 1px 1px);clip: rect(1px, 1px, 1px, 1px);height: 1px;margin: -1px;overflow: hidden;padding: 0;position: absolute;width: 1px;}#sk-container-id-1 div.sk-estimator {font-family: monospace;background-color: #f0f8ff;border: 1px dotted black;border-radius: 0.25em;box-sizing: border-box;margin-bottom: 0.5em;}#sk-container-id-1 div.sk-estimator:hover {background-color: #d4ebff;}#sk-container-id-1 div.sk-parallel-item::after {content: \"\";width: 100%;border-bottom: 1px solid gray;flex-grow: 1;}#sk-container-id-1 div.sk-label:hover label.sk-toggleable__label {background-color: #d4ebff;}#sk-container-id-1 div.sk-serial::before {content: \"\";position: absolute;border-left: 1px solid gray;box-sizing: border-box;top: 0;bottom: 0;left: 50%;z-index: 0;}#sk-container-id-1 div.sk-serial {display: flex;flex-direction: column;align-items: center;background-color: white;padding-right: 0.2em;padding-left: 0.2em;position: relative;}#sk-container-id-1 div.sk-item {position: relative;z-index: 1;}#sk-container-id-1 div.sk-parallel {display: flex;align-items: stretch;justify-content: center;background-color: white;position: relative;}#sk-container-id-1 div.sk-item::before, #sk-container-id-1 div.sk-parallel-item::before {content: \"\";position: absolute;border-left: 1px solid gray;box-sizing: border-box;top: 0;bottom: 0;left: 50%;z-index: -1;}#sk-container-id-1 div.sk-parallel-item {display: flex;flex-direction: column;z-index: 1;position: relative;background-color: white;}#sk-container-id-1 div.sk-parallel-item:first-child::after {align-self: flex-end;width: 50%;}#sk-container-id-1 div.sk-parallel-item:last-child::after {align-self: flex-start;width: 50%;}#sk-container-id-1 div.sk-parallel-item:only-child::after {width: 0;}#sk-container-id-1 div.sk-dashed-wrapped {border: 1px dashed gray;margin: 0 0.4em 0.5em 0.4em;box-sizing: border-box;padding-bottom: 0.4em;background-color: white;}#sk-container-id-1 div.sk-label label {font-family: monospace;font-weight: bold;display: inline-block;line-height: 1.2em;}#sk-container-id-1 div.sk-label-container {text-align: center;}#sk-container-id-1 div.sk-container {/* jupyter's `normalize.less` sets `[hidden] { display: none; }` but bootstrap.min.css set `[hidden] { display: none !important; }` so we also need the `!important` here to be able to override the default hidden behavior on the sphinx rendered scikit-learn.org. See: https://github.com/scikit-learn/scikit-learn/issues/21755 */display: inline-block !important;position: relative;}#sk-container-id-1 div.sk-text-repr-fallback {display: none;}</style><div id=\"sk-container-id-1\" class=\"sk-top-container\"><div class=\"sk-text-repr-fallback\"><pre>LogisticRegression(max_iter=200, random_state=1)</pre><b>In a Jupyter environment, please rerun this cell to show the HTML representation or trust the notebook. <br />On GitHub, the HTML representation is unable to render, please try loading this page with nbviewer.org.</b></div><div class=\"sk-container\" hidden><div class=\"sk-item\"><div class=\"sk-estimator sk-toggleable\"><input class=\"sk-toggleable__control sk-hidden--visually\" id=\"sk-estimator-id-1\" type=\"checkbox\" checked><label for=\"sk-estimator-id-1\" class=\"sk-toggleable__label sk-toggleable__label-arrow\">LogisticRegression</label><div class=\"sk-toggleable__content\"><pre>LogisticRegression(max_iter=200, random_state=1)</pre></div></div></div></div></div>"
      ],
      "text/plain": [
       "LogisticRegression(max_iter=200, random_state=1)"
      ]
     },
     "execution_count": 17,
     "metadata": {},
     "output_type": "execute_result"
    }
   ],
   "source": [
    "# Create logistic regression model and fit to training data\n",
    "from sklearn.linear_model import LogisticRegression\n",
    "classifier = LogisticRegression(solver=\"lbfgs\", max_iter=200, random_state=1)\n",
    "classifier.fit(X_train, y_train)"
   ]
  },
  {
   "cell_type": "code",
   "execution_count": 18,
   "id": "0aed70f2",
   "metadata": {},
   "outputs": [],
   "source": [
    "# Generate predictions based on test data\n",
    "predictions = classifier.predict(X_test)"
   ]
  },
  {
   "cell_type": "code",
   "execution_count": 19,
   "id": "e7698f82",
   "metadata": {},
   "outputs": [
    {
     "data": {
      "text/html": [
       "<div>\n",
       "<style scoped>\n",
       "    .dataframe tbody tr th:only-of-type {\n",
       "        vertical-align: middle;\n",
       "    }\n",
       "\n",
       "    .dataframe tbody tr th {\n",
       "        vertical-align: top;\n",
       "    }\n",
       "\n",
       "    .dataframe thead th {\n",
       "        text-align: right;\n",
       "    }\n",
       "</style>\n",
       "<table border=\"1\" class=\"dataframe\">\n",
       "  <thead>\n",
       "    <tr style=\"text-align: right;\">\n",
       "      <th></th>\n",
       "      <th>Predicted 0</th>\n",
       "      <th>Predicted 1</th>\n",
       "    </tr>\n",
       "  </thead>\n",
       "  <tbody>\n",
       "    <tr>\n",
       "      <th>Actual 0</th>\n",
       "      <td>3949</td>\n",
       "      <td>1163</td>\n",
       "    </tr>\n",
       "    <tr>\n",
       "      <th>Actual 1</th>\n",
       "      <td>2098</td>\n",
       "      <td>3017</td>\n",
       "    </tr>\n",
       "  </tbody>\n",
       "</table>\n",
       "</div>"
      ],
      "text/plain": [
       "          Predicted 0  Predicted 1\n",
       "Actual 0         3949         1163\n",
       "Actual 1         2098         3017"
      ]
     },
     "execution_count": 19,
     "metadata": {},
     "output_type": "execute_result"
    }
   ],
   "source": [
    "# Create confusion matrix\n",
    "from sklearn.metrics import confusion_matrix, classification_report\n",
    "cm = confusion_matrix(y_test, predictions)\n",
    "cm_df = pd.DataFrame(cm, index=[\"Actual 0\", \"Actual 1\"], columns=[\"Predicted 0\", \"Predicted 1\"])\n",
    "cm_df"
   ]
  },
  {
   "cell_type": "code",
   "execution_count": 20,
   "id": "3f0b9ad7",
   "metadata": {},
   "outputs": [
    {
     "name": "stdout",
     "output_type": "stream",
     "text": [
      "              precision    recall  f1-score   support\n",
      "\n",
      "           0       0.65      0.77      0.71      5112\n",
      "           1       0.72      0.59      0.65      5115\n",
      "\n",
      "    accuracy                           0.68     10227\n",
      "   macro avg       0.69      0.68      0.68     10227\n",
      "weighted avg       0.69      0.68      0.68     10227\n",
      "\n"
     ]
    }
   ],
   "source": [
    "# Print classification report\n",
    "print(classification_report(y_test, predictions))"
   ]
  },
  {
   "cell_type": "markdown",
   "id": "340c06b3",
   "metadata": {},
   "source": [
    "### The accuracy score is very poor so this model is not suitable."
   ]
  },
  {
   "cell_type": "markdown",
   "id": "cbca3ef2",
   "metadata": {},
   "source": [
    "## Create and train sequential NN model using Tensorflow Keras"
   ]
  },
  {
   "cell_type": "code",
   "execution_count": 8,
   "id": "14b93200",
   "metadata": {},
   "outputs": [],
   "source": [
    "# Import Standard Scaler\n",
    "from sklearn.preprocessing import StandardScaler"
   ]
  },
  {
   "cell_type": "code",
   "execution_count": 9,
   "id": "624250a0",
   "metadata": {},
   "outputs": [],
   "source": [
    "# Re-create features and target arrays\n",
    "X = data.drop(columns=[\"ever_married\", \"work_type\", \"Residence_type\", \"stroke\"])\n",
    "y = data[\"stroke\"]"
   ]
  },
  {
   "cell_type": "code",
   "execution_count": 10,
   "id": "4f4299c4",
   "metadata": {},
   "outputs": [],
   "source": [
    "# Re-split data for training and testing\n",
    "from sklearn.model_selection import train_test_split\n",
    "X_train, X_test, y_train, y_test = train_test_split(X, y, random_state=1, stratify=y)"
   ]
  },
  {
   "cell_type": "code",
   "execution_count": 11,
   "id": "fad011ad",
   "metadata": {},
   "outputs": [
    {
     "data": {
      "text/html": [
       "<div>\n",
       "<style scoped>\n",
       "    .dataframe tbody tr th:only-of-type {\n",
       "        vertical-align: middle;\n",
       "    }\n",
       "\n",
       "    .dataframe tbody tr th {\n",
       "        vertical-align: top;\n",
       "    }\n",
       "\n",
       "    .dataframe thead th {\n",
       "        text-align: right;\n",
       "    }\n",
       "</style>\n",
       "<table border=\"1\" class=\"dataframe\">\n",
       "  <thead>\n",
       "    <tr style=\"text-align: right;\">\n",
       "      <th></th>\n",
       "      <th>sex</th>\n",
       "      <th>age</th>\n",
       "      <th>hypertension</th>\n",
       "      <th>heart_disease</th>\n",
       "      <th>avg_glucose_level</th>\n",
       "      <th>bmi</th>\n",
       "      <th>smoking_status</th>\n",
       "    </tr>\n",
       "  </thead>\n",
       "  <tbody>\n",
       "    <tr>\n",
       "      <th>0</th>\n",
       "      <td>-1.113658</td>\n",
       "      <td>0.072830</td>\n",
       "      <td>1.916206</td>\n",
       "      <td>-0.382625</td>\n",
       "      <td>-0.825528</td>\n",
       "      <td>-1.208525</td>\n",
       "      <td>-0.980375</td>\n",
       "    </tr>\n",
       "    <tr>\n",
       "      <th>1</th>\n",
       "      <td>-1.113658</td>\n",
       "      <td>0.998597</td>\n",
       "      <td>1.916206</td>\n",
       "      <td>-0.382625</td>\n",
       "      <td>1.090992</td>\n",
       "      <td>0.986089</td>\n",
       "      <td>-0.980375</td>\n",
       "    </tr>\n",
       "    <tr>\n",
       "      <th>2</th>\n",
       "      <td>0.897942</td>\n",
       "      <td>-1.871281</td>\n",
       "      <td>-0.521865</td>\n",
       "      <td>-0.382625</td>\n",
       "      <td>-0.967460</td>\n",
       "      <td>3.136516</td>\n",
       "      <td>-0.980375</td>\n",
       "    </tr>\n",
       "    <tr>\n",
       "      <th>3</th>\n",
       "      <td>-1.113658</td>\n",
       "      <td>1.554058</td>\n",
       "      <td>-0.521865</td>\n",
       "      <td>-0.382625</td>\n",
       "      <td>-0.537157</td>\n",
       "      <td>0.146539</td>\n",
       "      <td>-0.980375</td>\n",
       "    </tr>\n",
       "    <tr>\n",
       "      <th>4</th>\n",
       "      <td>-1.113658</td>\n",
       "      <td>-0.760360</td>\n",
       "      <td>-0.521865</td>\n",
       "      <td>-0.382625</td>\n",
       "      <td>1.072102</td>\n",
       "      <td>-0.427891</td>\n",
       "      <td>-0.980375</td>\n",
       "    </tr>\n",
       "    <tr>\n",
       "      <th>...</th>\n",
       "      <td>...</td>\n",
       "      <td>...</td>\n",
       "      <td>...</td>\n",
       "      <td>...</td>\n",
       "      <td>...</td>\n",
       "      <td>...</td>\n",
       "      <td>...</td>\n",
       "    </tr>\n",
       "    <tr>\n",
       "      <th>30675</th>\n",
       "      <td>-1.113658</td>\n",
       "      <td>0.998597</td>\n",
       "      <td>1.916206</td>\n",
       "      <td>-0.382625</td>\n",
       "      <td>0.138711</td>\n",
       "      <td>-1.517833</td>\n",
       "      <td>-0.980375</td>\n",
       "    </tr>\n",
       "    <tr>\n",
       "      <th>30676</th>\n",
       "      <td>0.897942</td>\n",
       "      <td>0.674579</td>\n",
       "      <td>-0.521865</td>\n",
       "      <td>-0.382625</td>\n",
       "      <td>-0.538717</td>\n",
       "      <td>-0.913946</td>\n",
       "      <td>-0.980375</td>\n",
       "    </tr>\n",
       "    <tr>\n",
       "      <th>30677</th>\n",
       "      <td>-1.113658</td>\n",
       "      <td>-1.223244</td>\n",
       "      <td>-0.521865</td>\n",
       "      <td>-0.382625</td>\n",
       "      <td>0.362787</td>\n",
       "      <td>-0.413162</td>\n",
       "      <td>1.020018</td>\n",
       "    </tr>\n",
       "    <tr>\n",
       "      <th>30678</th>\n",
       "      <td>-1.113658</td>\n",
       "      <td>-0.158612</td>\n",
       "      <td>-0.521865</td>\n",
       "      <td>-0.382625</td>\n",
       "      <td>-0.534731</td>\n",
       "      <td>-1.179067</td>\n",
       "      <td>-0.980375</td>\n",
       "    </tr>\n",
       "    <tr>\n",
       "      <th>30679</th>\n",
       "      <td>0.897942</td>\n",
       "      <td>0.350560</td>\n",
       "      <td>1.916206</td>\n",
       "      <td>-0.382625</td>\n",
       "      <td>-0.740784</td>\n",
       "      <td>-0.103854</td>\n",
       "      <td>-0.980375</td>\n",
       "    </tr>\n",
       "  </tbody>\n",
       "</table>\n",
       "<p>30680 rows × 7 columns</p>\n",
       "</div>"
      ],
      "text/plain": [
       "            sex       age  hypertension  heart_disease  avg_glucose_level  \\\n",
       "0     -1.113658  0.072830      1.916206      -0.382625          -0.825528   \n",
       "1     -1.113658  0.998597      1.916206      -0.382625           1.090992   \n",
       "2      0.897942 -1.871281     -0.521865      -0.382625          -0.967460   \n",
       "3     -1.113658  1.554058     -0.521865      -0.382625          -0.537157   \n",
       "4     -1.113658 -0.760360     -0.521865      -0.382625           1.072102   \n",
       "...         ...       ...           ...            ...                ...   \n",
       "30675 -1.113658  0.998597      1.916206      -0.382625           0.138711   \n",
       "30676  0.897942  0.674579     -0.521865      -0.382625          -0.538717   \n",
       "30677 -1.113658 -1.223244     -0.521865      -0.382625           0.362787   \n",
       "30678 -1.113658 -0.158612     -0.521865      -0.382625          -0.534731   \n",
       "30679  0.897942  0.350560      1.916206      -0.382625          -0.740784   \n",
       "\n",
       "            bmi  smoking_status  \n",
       "0     -1.208525       -0.980375  \n",
       "1      0.986089       -0.980375  \n",
       "2      3.136516       -0.980375  \n",
       "3      0.146539       -0.980375  \n",
       "4     -0.427891       -0.980375  \n",
       "...         ...             ...  \n",
       "30675 -1.517833       -0.980375  \n",
       "30676 -0.913946       -0.980375  \n",
       "30677 -0.413162        1.020018  \n",
       "30678 -1.179067       -0.980375  \n",
       "30679 -0.103854       -0.980375  \n",
       "\n",
       "[30680 rows x 7 columns]"
      ]
     },
     "execution_count": 11,
     "metadata": {},
     "output_type": "execute_result"
    }
   ],
   "source": [
    "# Fit the scaler to the whole features array and scale training features array\n",
    "scaler = StandardScaler()\n",
    "scaler.fit(X_train)\n",
    "scaled_X_train = scaler.transform(X_train)\n",
    "scaled_X_train_df = pd.DataFrame(scaled_X_train, columns=[\"sex\", \"age\", \"hypertension\", \"heart_disease\",\\\n",
    "                                                         \"avg_glucose_level\", \"bmi\", \"smoking_status\"])\n",
    "\n",
    "scaled_X_train_df"
   ]
  },
  {
   "cell_type": "code",
   "execution_count": 12,
   "id": "906a7484",
   "metadata": {},
   "outputs": [
    {
     "data": {
      "text/html": [
       "<div>\n",
       "<style scoped>\n",
       "    .dataframe tbody tr th:only-of-type {\n",
       "        vertical-align: middle;\n",
       "    }\n",
       "\n",
       "    .dataframe tbody tr th {\n",
       "        vertical-align: top;\n",
       "    }\n",
       "\n",
       "    .dataframe thead th {\n",
       "        text-align: right;\n",
       "    }\n",
       "</style>\n",
       "<table border=\"1\" class=\"dataframe\">\n",
       "  <thead>\n",
       "    <tr style=\"text-align: right;\">\n",
       "      <th></th>\n",
       "      <th>sex</th>\n",
       "      <th>age</th>\n",
       "      <th>hypertension</th>\n",
       "      <th>heart_disease</th>\n",
       "      <th>avg_glucose_level</th>\n",
       "      <th>bmi</th>\n",
       "      <th>smoking_status</th>\n",
       "    </tr>\n",
       "  </thead>\n",
       "  <tbody>\n",
       "    <tr>\n",
       "      <th>0</th>\n",
       "      <td>-1.113658</td>\n",
       "      <td>0.767156</td>\n",
       "      <td>-0.521865</td>\n",
       "      <td>-0.382625</td>\n",
       "      <td>-0.664359</td>\n",
       "      <td>-0.103854</td>\n",
       "      <td>-0.980375</td>\n",
       "    </tr>\n",
       "    <tr>\n",
       "      <th>1</th>\n",
       "      <td>0.897942</td>\n",
       "      <td>0.813444</td>\n",
       "      <td>-0.521865</td>\n",
       "      <td>-0.382625</td>\n",
       "      <td>-0.802652</td>\n",
       "      <td>-1.208525</td>\n",
       "      <td>1.020018</td>\n",
       "    </tr>\n",
       "    <tr>\n",
       "      <th>2</th>\n",
       "      <td>-1.113658</td>\n",
       "      <td>-1.732416</td>\n",
       "      <td>1.916206</td>\n",
       "      <td>-0.382625</td>\n",
       "      <td>-1.050124</td>\n",
       "      <td>-0.751928</td>\n",
       "      <td>1.020018</td>\n",
       "    </tr>\n",
       "    <tr>\n",
       "      <th>3</th>\n",
       "      <td>-1.113658</td>\n",
       "      <td>0.859732</td>\n",
       "      <td>-0.521865</td>\n",
       "      <td>-0.382625</td>\n",
       "      <td>-0.925175</td>\n",
       "      <td>-0.398433</td>\n",
       "      <td>1.020018</td>\n",
       "    </tr>\n",
       "    <tr>\n",
       "      <th>4</th>\n",
       "      <td>0.897942</td>\n",
       "      <td>0.396849</td>\n",
       "      <td>-0.521865</td>\n",
       "      <td>-0.382625</td>\n",
       "      <td>0.155521</td>\n",
       "      <td>1.663621</td>\n",
       "      <td>-0.980375</td>\n",
       "    </tr>\n",
       "    <tr>\n",
       "      <th>...</th>\n",
       "      <td>...</td>\n",
       "      <td>...</td>\n",
       "      <td>...</td>\n",
       "      <td>...</td>\n",
       "      <td>...</td>\n",
       "      <td>...</td>\n",
       "      <td>...</td>\n",
       "    </tr>\n",
       "    <tr>\n",
       "      <th>10222</th>\n",
       "      <td>0.897942</td>\n",
       "      <td>0.998597</td>\n",
       "      <td>1.916206</td>\n",
       "      <td>-0.382625</td>\n",
       "      <td>-0.578922</td>\n",
       "      <td>0.558949</td>\n",
       "      <td>1.020018</td>\n",
       "    </tr>\n",
       "    <tr>\n",
       "      <th>10223</th>\n",
       "      <td>-1.113658</td>\n",
       "      <td>-0.343765</td>\n",
       "      <td>-0.521865</td>\n",
       "      <td>-0.382625</td>\n",
       "      <td>-0.074794</td>\n",
       "      <td>-1.252712</td>\n",
       "      <td>1.020018</td>\n",
       "    </tr>\n",
       "    <tr>\n",
       "      <th>10224</th>\n",
       "      <td>0.897942</td>\n",
       "      <td>-0.991802</td>\n",
       "      <td>1.916206</td>\n",
       "      <td>2.613527</td>\n",
       "      <td>2.224371</td>\n",
       "      <td>-0.339517</td>\n",
       "      <td>1.020018</td>\n",
       "    </tr>\n",
       "    <tr>\n",
       "      <th>10225</th>\n",
       "      <td>0.897942</td>\n",
       "      <td>-1.362109</td>\n",
       "      <td>1.916206</td>\n",
       "      <td>-0.382625</td>\n",
       "      <td>-1.116844</td>\n",
       "      <td>1.295397</td>\n",
       "      <td>1.020018</td>\n",
       "    </tr>\n",
       "    <tr>\n",
       "      <th>10226</th>\n",
       "      <td>-1.113658</td>\n",
       "      <td>-0.343765</td>\n",
       "      <td>-0.521865</td>\n",
       "      <td>2.613527</td>\n",
       "      <td>1.810012</td>\n",
       "      <td>-0.089125</td>\n",
       "      <td>-0.980375</td>\n",
       "    </tr>\n",
       "  </tbody>\n",
       "</table>\n",
       "<p>10227 rows × 7 columns</p>\n",
       "</div>"
      ],
      "text/plain": [
       "            sex       age  hypertension  heart_disease  avg_glucose_level  \\\n",
       "0     -1.113658  0.767156     -0.521865      -0.382625          -0.664359   \n",
       "1      0.897942  0.813444     -0.521865      -0.382625          -0.802652   \n",
       "2     -1.113658 -1.732416      1.916206      -0.382625          -1.050124   \n",
       "3     -1.113658  0.859732     -0.521865      -0.382625          -0.925175   \n",
       "4      0.897942  0.396849     -0.521865      -0.382625           0.155521   \n",
       "...         ...       ...           ...            ...                ...   \n",
       "10222  0.897942  0.998597      1.916206      -0.382625          -0.578922   \n",
       "10223 -1.113658 -0.343765     -0.521865      -0.382625          -0.074794   \n",
       "10224  0.897942 -0.991802      1.916206       2.613527           2.224371   \n",
       "10225  0.897942 -1.362109      1.916206      -0.382625          -1.116844   \n",
       "10226 -1.113658 -0.343765     -0.521865       2.613527           1.810012   \n",
       "\n",
       "            bmi  smoking_status  \n",
       "0     -0.103854       -0.980375  \n",
       "1     -1.208525        1.020018  \n",
       "2     -0.751928        1.020018  \n",
       "3     -0.398433        1.020018  \n",
       "4      1.663621       -0.980375  \n",
       "...         ...             ...  \n",
       "10222  0.558949        1.020018  \n",
       "10223 -1.252712        1.020018  \n",
       "10224 -0.339517        1.020018  \n",
       "10225  1.295397        1.020018  \n",
       "10226 -0.089125       -0.980375  \n",
       "\n",
       "[10227 rows x 7 columns]"
      ]
     },
     "execution_count": 12,
     "metadata": {},
     "output_type": "execute_result"
    }
   ],
   "source": [
    "# Scale the features testing set\n",
    "scaled_X_test = scaler.transform(X_test)\n",
    "scaled_X_test_df = pd.DataFrame(scaled_X_test, columns=[\"sex\", \"age\", \"hypertension\", \"heart_disease\",\\\n",
    "                                                       \"avg_glucose_level\", \"bmi\", \"smoking_status\"])\n",
    "\n",
    "scaled_X_test_df"
   ]
  },
  {
   "cell_type": "code",
   "execution_count": 13,
   "id": "a8275311",
   "metadata": {},
   "outputs": [],
   "source": [
    "# Import Tensorflow\n",
    "import tensorflow as tf"
   ]
  },
  {
   "cell_type": "code",
   "execution_count": 14,
   "id": "8d1defcf",
   "metadata": {},
   "outputs": [
    {
     "name": "stdout",
     "output_type": "stream",
     "text": [
      "Model: \"sequential\"\n",
      "_________________________________________________________________\n",
      " Layer (type)                Output Shape              Param #   \n",
      "=================================================================\n",
      " dense (Dense)               (None, 65)                520       \n",
      "                                                                 \n",
      " dense_1 (Dense)             (None, 65)                4290      \n",
      "                                                                 \n",
      " dense_2 (Dense)             (None, 45)                2970      \n",
      "                                                                 \n",
      " dense_3 (Dense)             (None, 25)                1150      \n",
      "                                                                 \n",
      " dense_4 (Dense)             (None, 1)                 26        \n",
      "                                                                 \n",
      "=================================================================\n",
      "Total params: 8956 (34.98 KB)\n",
      "Trainable params: 8956 (34.98 KB)\n",
      "Non-trainable params: 0 (0.00 Byte)\n",
      "_________________________________________________________________\n"
     ]
    }
   ],
   "source": [
    "# Create sequential model with four hidden layers\n",
    "nn_model_8 = tf.keras.models.Sequential()\n",
    "nn_model_8.add(tf.keras.layers.Dense(units=65, activation=\"relu\", input_dim=7))\n",
    "nn_model_8.add(tf.keras.layers.Dense(units=65, activation=\"relu\"))\n",
    "nn_model_8.add(tf.keras.layers.Dense(units=45, activation=\"relu\"))\n",
    "nn_model_8.add(tf.keras.layers.Dense(units=25, activation=\"relu\"))\n",
    "nn_model_8.add(tf.keras.layers.Dense(units=1, activation=\"sigmoid\"))\n",
    "nn_model_8.summary()"
   ]
  },
  {
   "cell_type": "code",
   "execution_count": 15,
   "id": "66331422",
   "metadata": {},
   "outputs": [
    {
     "name": "stdout",
     "output_type": "stream",
     "text": [
      "Epoch 1/200\n",
      "959/959 [==============================] - 2s 2ms/step - loss: 0.5886 - accuracy: 0.6923\n",
      "Epoch 2/200\n",
      "959/959 [==============================] - 2s 2ms/step - loss: 0.5685 - accuracy: 0.7054\n",
      "Epoch 3/200\n",
      "959/959 [==============================] - 2s 2ms/step - loss: 0.5528 - accuracy: 0.7140\n",
      "Epoch 4/200\n",
      "959/959 [==============================] - 2s 2ms/step - loss: 0.5329 - accuracy: 0.7271\n",
      "Epoch 5/200\n",
      "959/959 [==============================] - 2s 2ms/step - loss: 0.5126 - accuracy: 0.7356\n",
      "Epoch 6/200\n",
      "959/959 [==============================] - 2s 2ms/step - loss: 0.4931 - accuracy: 0.7480\n",
      "Epoch 7/200\n",
      "959/959 [==============================] - 2s 2ms/step - loss: 0.4752 - accuracy: 0.7597\n",
      "Epoch 8/200\n",
      "959/959 [==============================] - 2s 2ms/step - loss: 0.4566 - accuracy: 0.7743\n",
      "Epoch 9/200\n",
      "959/959 [==============================] - 2s 2ms/step - loss: 0.4392 - accuracy: 0.7823\n",
      "Epoch 10/200\n",
      "959/959 [==============================] - 2s 2ms/step - loss: 0.4217 - accuracy: 0.7901\n",
      "Epoch 11/200\n",
      "959/959 [==============================] - 2s 2ms/step - loss: 0.4083 - accuracy: 0.7992\n",
      "Epoch 12/200\n",
      "959/959 [==============================] - 2s 2ms/step - loss: 0.3942 - accuracy: 0.8068\n",
      "Epoch 13/200\n",
      "959/959 [==============================] - 2s 2ms/step - loss: 0.3836 - accuracy: 0.8121\n",
      "Epoch 14/200\n",
      "959/959 [==============================] - 2s 2ms/step - loss: 0.3690 - accuracy: 0.8234\n",
      "Epoch 15/200\n",
      "959/959 [==============================] - 2s 2ms/step - loss: 0.3555 - accuracy: 0.8298\n",
      "Epoch 16/200\n",
      "959/959 [==============================] - 2s 2ms/step - loss: 0.3439 - accuracy: 0.8360\n",
      "Epoch 17/200\n",
      "959/959 [==============================] - 2s 2ms/step - loss: 0.3381 - accuracy: 0.8373\n",
      "Epoch 18/200\n",
      "959/959 [==============================] - 2s 2ms/step - loss: 0.3255 - accuracy: 0.8440\n",
      "Epoch 19/200\n",
      "959/959 [==============================] - 2s 2ms/step - loss: 0.3194 - accuracy: 0.8468\n",
      "Epoch 20/200\n",
      "959/959 [==============================] - 2s 2ms/step - loss: 0.3078 - accuracy: 0.8530\n",
      "Epoch 21/200\n",
      "959/959 [==============================] - 2s 2ms/step - loss: 0.3007 - accuracy: 0.8582\n",
      "Epoch 22/200\n",
      "959/959 [==============================] - 3s 3ms/step - loss: 0.2913 - accuracy: 0.8622\n",
      "Epoch 23/200\n",
      "959/959 [==============================] - 2s 2ms/step - loss: 0.2838 - accuracy: 0.8657\n",
      "Epoch 24/200\n",
      "959/959 [==============================] - 2s 2ms/step - loss: 0.2805 - accuracy: 0.8653\n",
      "Epoch 25/200\n",
      "959/959 [==============================] - 2s 2ms/step - loss: 0.2730 - accuracy: 0.8708\n",
      "Epoch 26/200\n",
      "959/959 [==============================] - 2s 2ms/step - loss: 0.2620 - accuracy: 0.8763\n",
      "Epoch 27/200\n",
      "959/959 [==============================] - 2s 2ms/step - loss: 0.2622 - accuracy: 0.8781\n",
      "Epoch 28/200\n",
      "959/959 [==============================] - 3s 3ms/step - loss: 0.2586 - accuracy: 0.8813\n",
      "Epoch 29/200\n",
      "959/959 [==============================] - 3s 3ms/step - loss: 0.2508 - accuracy: 0.8861\n",
      "Epoch 30/200\n",
      "959/959 [==============================] - 3s 3ms/step - loss: 0.2477 - accuracy: 0.8870\n",
      "Epoch 31/200\n",
      "959/959 [==============================] - 3s 3ms/step - loss: 0.2420 - accuracy: 0.8885\n",
      "Epoch 32/200\n",
      "959/959 [==============================] - 1s 1ms/step - loss: 0.2355 - accuracy: 0.8910\n",
      "Epoch 33/200\n",
      "959/959 [==============================] - 2s 2ms/step - loss: 0.2315 - accuracy: 0.8965\n",
      "Epoch 34/200\n",
      "959/959 [==============================] - 2s 2ms/step - loss: 0.2266 - accuracy: 0.8987\n",
      "Epoch 35/200\n",
      "959/959 [==============================] - 2s 2ms/step - loss: 0.2220 - accuracy: 0.8973\n",
      "Epoch 36/200\n",
      "959/959 [==============================] - 2s 2ms/step - loss: 0.2238 - accuracy: 0.8992\n",
      "Epoch 37/200\n",
      "959/959 [==============================] - 2s 2ms/step - loss: 0.2128 - accuracy: 0.9032\n",
      "Epoch 38/200\n",
      "959/959 [==============================] - 2s 2ms/step - loss: 0.2147 - accuracy: 0.9031\n",
      "Epoch 39/200\n",
      "959/959 [==============================] - 2s 2ms/step - loss: 0.2103 - accuracy: 0.9061\n",
      "Epoch 40/200\n",
      "959/959 [==============================] - 2s 2ms/step - loss: 0.2098 - accuracy: 0.9059\n",
      "Epoch 41/200\n",
      "959/959 [==============================] - 2s 2ms/step - loss: 0.2047 - accuracy: 0.9102\n",
      "Epoch 42/200\n",
      "959/959 [==============================] - 2s 2ms/step - loss: 0.2046 - accuracy: 0.9090\n",
      "Epoch 43/200\n",
      "959/959 [==============================] - 2s 2ms/step - loss: 0.2059 - accuracy: 0.9102\n",
      "Epoch 44/200\n",
      "959/959 [==============================] - 2s 2ms/step - loss: 0.1942 - accuracy: 0.9153\n",
      "Epoch 45/200\n",
      "959/959 [==============================] - 2s 2ms/step - loss: 0.1940 - accuracy: 0.9140\n",
      "Epoch 46/200\n",
      "959/959 [==============================] - 2s 2ms/step - loss: 0.1876 - accuracy: 0.9173\n",
      "Epoch 47/200\n",
      "959/959 [==============================] - 2s 2ms/step - loss: 0.1954 - accuracy: 0.9152\n",
      "Epoch 48/200\n",
      "959/959 [==============================] - 2s 2ms/step - loss: 0.1856 - accuracy: 0.9181\n",
      "Epoch 49/200\n",
      "959/959 [==============================] - 2s 2ms/step - loss: 0.1810 - accuracy: 0.9199\n",
      "Epoch 50/200\n",
      "959/959 [==============================] - 1s 2ms/step - loss: 0.1802 - accuracy: 0.9223\n",
      "Epoch 51/200\n",
      "959/959 [==============================] - 1s 2ms/step - loss: 0.1843 - accuracy: 0.9205\n",
      "Epoch 52/200\n",
      "959/959 [==============================] - 1s 2ms/step - loss: 0.1794 - accuracy: 0.9211\n",
      "Epoch 53/200\n",
      "959/959 [==============================] - 1s 2ms/step - loss: 0.1714 - accuracy: 0.9264\n",
      "Epoch 54/200\n",
      "959/959 [==============================] - 1s 1ms/step - loss: 0.1760 - accuracy: 0.9240\n",
      "Epoch 55/200\n",
      "959/959 [==============================] - 1s 1ms/step - loss: 0.1637 - accuracy: 0.9302\n",
      "Epoch 56/200\n",
      "959/959 [==============================] - 1s 2ms/step - loss: 0.1721 - accuracy: 0.9278\n",
      "Epoch 57/200\n",
      "959/959 [==============================] - 2s 2ms/step - loss: 0.1677 - accuracy: 0.9289\n",
      "Epoch 58/200\n",
      "959/959 [==============================] - 1s 2ms/step - loss: 0.1644 - accuracy: 0.9315\n",
      "Epoch 59/200\n",
      "959/959 [==============================] - 1s 1ms/step - loss: 0.1673 - accuracy: 0.9286\n",
      "Epoch 60/200\n",
      "959/959 [==============================] - 1s 1ms/step - loss: 0.1576 - accuracy: 0.9349\n",
      "Epoch 61/200\n",
      "959/959 [==============================] - 1s 1ms/step - loss: 0.1624 - accuracy: 0.9309\n",
      "Epoch 62/200\n",
      "959/959 [==============================] - 1s 1ms/step - loss: 0.1522 - accuracy: 0.9355\n",
      "Epoch 63/200\n",
      "959/959 [==============================] - 2s 2ms/step - loss: 0.1550 - accuracy: 0.9333\n",
      "Epoch 64/200\n",
      "959/959 [==============================] - 1s 1ms/step - loss: 0.1553 - accuracy: 0.9349\n",
      "Epoch 65/200\n",
      "959/959 [==============================] - 1s 1ms/step - loss: 0.1489 - accuracy: 0.9369\n",
      "Epoch 66/200\n",
      "959/959 [==============================] - 2s 2ms/step - loss: 0.1500 - accuracy: 0.9390\n",
      "Epoch 67/200\n",
      "959/959 [==============================] - 2s 2ms/step - loss: 0.1461 - accuracy: 0.9375\n",
      "Epoch 68/200\n",
      "959/959 [==============================] - 2s 2ms/step - loss: 0.1520 - accuracy: 0.9384\n",
      "Epoch 69/200\n",
      "959/959 [==============================] - 2s 2ms/step - loss: 0.1466 - accuracy: 0.9402\n",
      "Epoch 70/200\n",
      "959/959 [==============================] - 2s 2ms/step - loss: 0.1423 - accuracy: 0.9415\n",
      "Epoch 71/200\n",
      "959/959 [==============================] - 2s 2ms/step - loss: 0.1450 - accuracy: 0.9402\n",
      "Epoch 72/200\n",
      "959/959 [==============================] - 2s 2ms/step - loss: 0.1406 - accuracy: 0.9425\n",
      "Epoch 73/200\n",
      "959/959 [==============================] - 2s 2ms/step - loss: 0.1467 - accuracy: 0.9404\n",
      "Epoch 74/200\n",
      "959/959 [==============================] - 2s 2ms/step - loss: 0.1400 - accuracy: 0.9428\n",
      "Epoch 75/200\n",
      "959/959 [==============================] - 2s 2ms/step - loss: 0.1399 - accuracy: 0.9426\n",
      "Epoch 76/200\n",
      "959/959 [==============================] - 2s 2ms/step - loss: 0.1367 - accuracy: 0.9440\n",
      "Epoch 77/200\n",
      "959/959 [==============================] - 2s 2ms/step - loss: 0.1479 - accuracy: 0.9411\n",
      "Epoch 78/200\n",
      "959/959 [==============================] - 2s 2ms/step - loss: 0.1369 - accuracy: 0.9449\n",
      "Epoch 79/200\n",
      "959/959 [==============================] - 2s 2ms/step - loss: 0.1393 - accuracy: 0.9445\n",
      "Epoch 80/200\n",
      "959/959 [==============================] - 2s 2ms/step - loss: 0.1299 - accuracy: 0.9479\n",
      "Epoch 81/200\n",
      "959/959 [==============================] - 2s 2ms/step - loss: 0.1405 - accuracy: 0.9435\n",
      "Epoch 82/200\n",
      "959/959 [==============================] - 2s 2ms/step - loss: 0.1290 - accuracy: 0.9472\n",
      "Epoch 83/200\n",
      "959/959 [==============================] - 2s 2ms/step - loss: 0.1350 - accuracy: 0.9451\n",
      "Epoch 84/200\n",
      "959/959 [==============================] - 2s 2ms/step - loss: 0.1331 - accuracy: 0.9475\n",
      "Epoch 85/200\n",
      "959/959 [==============================] - 2s 2ms/step - loss: 0.1364 - accuracy: 0.9476\n",
      "Epoch 86/200\n",
      "959/959 [==============================] - 2s 2ms/step - loss: 0.1258 - accuracy: 0.9512\n",
      "Epoch 87/200\n",
      "959/959 [==============================] - 2s 2ms/step - loss: 0.1304 - accuracy: 0.9487\n",
      "Epoch 88/200\n",
      "959/959 [==============================] - 2s 2ms/step - loss: 0.1260 - accuracy: 0.9497\n",
      "Epoch 89/200\n",
      "959/959 [==============================] - 2s 2ms/step - loss: 0.1301 - accuracy: 0.9489\n",
      "Epoch 90/200\n",
      "959/959 [==============================] - 2s 2ms/step - loss: 0.1292 - accuracy: 0.9480\n",
      "Epoch 91/200\n",
      "959/959 [==============================] - 2s 2ms/step - loss: 0.1198 - accuracy: 0.9518\n",
      "Epoch 92/200\n",
      "959/959 [==============================] - 2s 2ms/step - loss: 0.1218 - accuracy: 0.9523\n",
      "Epoch 93/200\n",
      "959/959 [==============================] - 2s 2ms/step - loss: 0.1245 - accuracy: 0.9516\n",
      "Epoch 94/200\n",
      "959/959 [==============================] - 2s 2ms/step - loss: 0.1216 - accuracy: 0.9536\n",
      "Epoch 95/200\n",
      "959/959 [==============================] - 2s 2ms/step - loss: 0.1166 - accuracy: 0.9545\n",
      "Epoch 96/200\n",
      "959/959 [==============================] - 2s 2ms/step - loss: 0.1230 - accuracy: 0.9521\n",
      "Epoch 97/200\n",
      "959/959 [==============================] - 2s 2ms/step - loss: 0.1214 - accuracy: 0.9523\n",
      "Epoch 98/200\n",
      "959/959 [==============================] - 2s 2ms/step - loss: 0.1241 - accuracy: 0.9525\n",
      "Epoch 99/200\n",
      "959/959 [==============================] - 2s 2ms/step - loss: 0.1185 - accuracy: 0.9537\n",
      "Epoch 100/200\n",
      "959/959 [==============================] - 2s 2ms/step - loss: 0.1169 - accuracy: 0.9528\n",
      "Epoch 101/200\n",
      "959/959 [==============================] - 2s 2ms/step - loss: 0.1221 - accuracy: 0.9540\n",
      "Epoch 102/200\n",
      "959/959 [==============================] - 2s 2ms/step - loss: 0.1121 - accuracy: 0.9562\n",
      "Epoch 103/200\n",
      "959/959 [==============================] - 2s 2ms/step - loss: 0.1176 - accuracy: 0.9547\n",
      "Epoch 104/200\n",
      "959/959 [==============================] - 2s 2ms/step - loss: 0.1158 - accuracy: 0.9566\n",
      "Epoch 105/200\n",
      "959/959 [==============================] - 2s 2ms/step - loss: 0.1223 - accuracy: 0.9534\n",
      "Epoch 106/200\n",
      "959/959 [==============================] - 2s 2ms/step - loss: 0.1148 - accuracy: 0.9571\n",
      "Epoch 107/200\n",
      "959/959 [==============================] - 2s 2ms/step - loss: 0.1124 - accuracy: 0.9568\n",
      "Epoch 108/200\n",
      "959/959 [==============================] - 2s 2ms/step - loss: 0.1162 - accuracy: 0.9565\n",
      "Epoch 109/200\n",
      "959/959 [==============================] - 2s 2ms/step - loss: 0.1100 - accuracy: 0.9581\n",
      "Epoch 110/200\n",
      "959/959 [==============================] - 2s 2ms/step - loss: 0.1128 - accuracy: 0.9560\n",
      "Epoch 111/200\n",
      "959/959 [==============================] - 2s 2ms/step - loss: 0.1121 - accuracy: 0.9582\n",
      "Epoch 112/200\n",
      "959/959 [==============================] - 2s 2ms/step - loss: 0.1135 - accuracy: 0.9565\n",
      "Epoch 113/200\n",
      "959/959 [==============================] - 2s 2ms/step - loss: 0.1099 - accuracy: 0.9590\n",
      "Epoch 114/200\n",
      "959/959 [==============================] - 2s 2ms/step - loss: 0.1117 - accuracy: 0.9571\n",
      "Epoch 115/200\n",
      "959/959 [==============================] - 2s 2ms/step - loss: 0.1058 - accuracy: 0.9595\n",
      "Epoch 116/200\n",
      "959/959 [==============================] - 2s 2ms/step - loss: 0.1177 - accuracy: 0.9557\n",
      "Epoch 117/200\n",
      "959/959 [==============================] - 2s 2ms/step - loss: 0.1004 - accuracy: 0.9630\n",
      "Epoch 118/200\n",
      "959/959 [==============================] - 2s 2ms/step - loss: 0.1070 - accuracy: 0.9589\n",
      "Epoch 119/200\n",
      "959/959 [==============================] - 2s 2ms/step - loss: 0.1083 - accuracy: 0.9584\n",
      "Epoch 120/200\n",
      "959/959 [==============================] - 2s 2ms/step - loss: 0.1074 - accuracy: 0.9580\n",
      "Epoch 121/200\n",
      "959/959 [==============================] - 2s 2ms/step - loss: 0.0990 - accuracy: 0.9623\n",
      "Epoch 122/200\n",
      "959/959 [==============================] - 2s 2ms/step - loss: 0.1092 - accuracy: 0.9586\n",
      "Epoch 123/200\n",
      "959/959 [==============================] - 2s 2ms/step - loss: 0.0989 - accuracy: 0.9618\n",
      "Epoch 124/200\n",
      "959/959 [==============================] - 2s 2ms/step - loss: 0.1070 - accuracy: 0.9587\n",
      "Epoch 125/200\n",
      "959/959 [==============================] - 2s 2ms/step - loss: 0.1038 - accuracy: 0.9624\n",
      "Epoch 126/200\n",
      "959/959 [==============================] - 2s 2ms/step - loss: 0.0966 - accuracy: 0.9637\n",
      "Epoch 127/200\n",
      "959/959 [==============================] - 2s 2ms/step - loss: 0.1028 - accuracy: 0.9619\n",
      "Epoch 128/200\n",
      "959/959 [==============================] - 2s 2ms/step - loss: 0.1035 - accuracy: 0.9622\n",
      "Epoch 129/200\n",
      "959/959 [==============================] - 2s 2ms/step - loss: 0.0992 - accuracy: 0.9638\n",
      "Epoch 130/200\n",
      "959/959 [==============================] - 2s 2ms/step - loss: 0.0983 - accuracy: 0.9628\n",
      "Epoch 131/200\n",
      "959/959 [==============================] - 2s 2ms/step - loss: 0.1032 - accuracy: 0.9628\n",
      "Epoch 132/200\n",
      "959/959 [==============================] - 2s 2ms/step - loss: 0.0939 - accuracy: 0.9646\n",
      "Epoch 133/200\n",
      "959/959 [==============================] - 2s 2ms/step - loss: 0.0989 - accuracy: 0.9636\n",
      "Epoch 134/200\n",
      "959/959 [==============================] - 2s 2ms/step - loss: 0.0949 - accuracy: 0.9644\n",
      "Epoch 135/200\n",
      "959/959 [==============================] - 2s 2ms/step - loss: 0.0953 - accuracy: 0.9640\n",
      "Epoch 136/200\n",
      "959/959 [==============================] - 2s 2ms/step - loss: 0.1053 - accuracy: 0.9620\n",
      "Epoch 137/200\n",
      "959/959 [==============================] - 2s 2ms/step - loss: 0.0987 - accuracy: 0.9645\n",
      "Epoch 138/200\n",
      "959/959 [==============================] - 2s 2ms/step - loss: 0.0953 - accuracy: 0.9659\n",
      "Epoch 139/200\n",
      "959/959 [==============================] - 2s 2ms/step - loss: 0.0929 - accuracy: 0.9652\n",
      "Epoch 140/200\n",
      "959/959 [==============================] - 2s 2ms/step - loss: 0.0924 - accuracy: 0.9663\n",
      "Epoch 141/200\n",
      "959/959 [==============================] - 2s 2ms/step - loss: 0.0966 - accuracy: 0.9633\n",
      "Epoch 142/200\n",
      "959/959 [==============================] - 2s 2ms/step - loss: 0.1016 - accuracy: 0.9631\n",
      "Epoch 143/200\n",
      "959/959 [==============================] - 2s 2ms/step - loss: 0.0957 - accuracy: 0.9661\n",
      "Epoch 144/200\n",
      "959/959 [==============================] - 2s 2ms/step - loss: 0.0881 - accuracy: 0.9683\n",
      "Epoch 145/200\n",
      "959/959 [==============================] - 2s 2ms/step - loss: 0.1016 - accuracy: 0.9647\n",
      "Epoch 146/200\n",
      "959/959 [==============================] - 2s 2ms/step - loss: 0.0885 - accuracy: 0.9680\n",
      "Epoch 147/200\n",
      "959/959 [==============================] - 2s 2ms/step - loss: 0.0880 - accuracy: 0.9694\n",
      "Epoch 148/200\n",
      "959/959 [==============================] - 2s 2ms/step - loss: 0.0949 - accuracy: 0.9653\n",
      "Epoch 149/200\n",
      "959/959 [==============================] - 2s 2ms/step - loss: 0.0867 - accuracy: 0.9679\n",
      "Epoch 150/200\n",
      "959/959 [==============================] - 2s 2ms/step - loss: 0.0971 - accuracy: 0.9655\n",
      "Epoch 151/200\n",
      "959/959 [==============================] - 2s 2ms/step - loss: 0.0868 - accuracy: 0.9691\n",
      "Epoch 152/200\n",
      "959/959 [==============================] - 2s 2ms/step - loss: 0.0821 - accuracy: 0.9690\n",
      "Epoch 153/200\n",
      "959/959 [==============================] - 2s 2ms/step - loss: 0.0925 - accuracy: 0.9670\n",
      "Epoch 154/200\n",
      "959/959 [==============================] - 2s 2ms/step - loss: 0.0870 - accuracy: 0.9694\n",
      "Epoch 155/200\n",
      "959/959 [==============================] - 2s 2ms/step - loss: 0.0869 - accuracy: 0.9682\n",
      "Epoch 156/200\n",
      "959/959 [==============================] - 2s 2ms/step - loss: 0.0861 - accuracy: 0.9697\n",
      "Epoch 157/200\n",
      "959/959 [==============================] - 2s 2ms/step - loss: 0.0830 - accuracy: 0.9697\n",
      "Epoch 158/200\n",
      "959/959 [==============================] - 2s 2ms/step - loss: 0.0854 - accuracy: 0.9705\n",
      "Epoch 159/200\n",
      "959/959 [==============================] - 2s 2ms/step - loss: 0.0952 - accuracy: 0.9667\n",
      "Epoch 160/200\n"
     ]
    },
    {
     "name": "stdout",
     "output_type": "stream",
     "text": [
      "959/959 [==============================] - 2s 2ms/step - loss: 0.0786 - accuracy: 0.9727\n",
      "Epoch 161/200\n",
      "959/959 [==============================] - 2s 2ms/step - loss: 0.0799 - accuracy: 0.9704\n",
      "Epoch 162/200\n",
      "959/959 [==============================] - 2s 2ms/step - loss: 0.0832 - accuracy: 0.9697\n",
      "Epoch 163/200\n",
      "959/959 [==============================] - 2s 2ms/step - loss: 0.0856 - accuracy: 0.9692\n",
      "Epoch 164/200\n",
      "959/959 [==============================] - 2s 2ms/step - loss: 0.0809 - accuracy: 0.9704\n",
      "Epoch 165/200\n",
      "959/959 [==============================] - 2s 2ms/step - loss: 0.0834 - accuracy: 0.9708\n",
      "Epoch 166/200\n",
      "959/959 [==============================] - 2s 2ms/step - loss: 0.0863 - accuracy: 0.9705\n",
      "Epoch 167/200\n",
      "959/959 [==============================] - 2s 2ms/step - loss: 0.0874 - accuracy: 0.9703\n",
      "Epoch 168/200\n",
      "959/959 [==============================] - 2s 2ms/step - loss: 0.0883 - accuracy: 0.9701\n",
      "Epoch 169/200\n",
      "959/959 [==============================] - 2s 2ms/step - loss: 0.0814 - accuracy: 0.9717\n",
      "Epoch 170/200\n",
      "959/959 [==============================] - 2s 2ms/step - loss: 0.0752 - accuracy: 0.9737\n",
      "Epoch 171/200\n",
      "959/959 [==============================] - 2s 2ms/step - loss: 0.0814 - accuracy: 0.9714\n",
      "Epoch 172/200\n",
      "959/959 [==============================] - 2s 2ms/step - loss: 0.0812 - accuracy: 0.9710\n",
      "Epoch 173/200\n",
      "959/959 [==============================] - 2s 2ms/step - loss: 0.0790 - accuracy: 0.9714\n",
      "Epoch 174/200\n",
      "959/959 [==============================] - 2s 2ms/step - loss: 0.0804 - accuracy: 0.9719\n",
      "Epoch 175/200\n",
      "959/959 [==============================] - 2s 2ms/step - loss: 0.0797 - accuracy: 0.9726\n",
      "Epoch 176/200\n",
      "959/959 [==============================] - 2s 2ms/step - loss: 0.0711 - accuracy: 0.9748\n",
      "Epoch 177/200\n",
      "959/959 [==============================] - 2s 2ms/step - loss: 0.0789 - accuracy: 0.9722\n",
      "Epoch 178/200\n",
      "959/959 [==============================] - 2s 2ms/step - loss: 0.0870 - accuracy: 0.9704\n",
      "Epoch 179/200\n",
      "959/959 [==============================] - 2s 2ms/step - loss: 0.0850 - accuracy: 0.9712\n",
      "Epoch 180/200\n",
      "959/959 [==============================] - 2s 2ms/step - loss: 0.0719 - accuracy: 0.9747\n",
      "Epoch 181/200\n",
      "959/959 [==============================] - 2s 2ms/step - loss: 0.0720 - accuracy: 0.9742\n",
      "Epoch 182/200\n",
      "959/959 [==============================] - 2s 2ms/step - loss: 0.0798 - accuracy: 0.9708\n",
      "Epoch 183/200\n",
      "959/959 [==============================] - 2s 2ms/step - loss: 0.0755 - accuracy: 0.9728\n",
      "Epoch 184/200\n",
      "959/959 [==============================] - 2s 2ms/step - loss: 0.0736 - accuracy: 0.9739\n",
      "Epoch 185/200\n",
      "959/959 [==============================] - 2s 2ms/step - loss: 0.0767 - accuracy: 0.9719\n",
      "Epoch 186/200\n",
      "959/959 [==============================] - 2s 2ms/step - loss: 0.0788 - accuracy: 0.9727\n",
      "Epoch 187/200\n",
      "959/959 [==============================] - 2s 2ms/step - loss: 0.0767 - accuracy: 0.9734\n",
      "Epoch 188/200\n",
      "959/959 [==============================] - 2s 2ms/step - loss: 0.0695 - accuracy: 0.9764\n",
      "Epoch 189/200\n",
      "959/959 [==============================] - 2s 2ms/step - loss: 0.0784 - accuracy: 0.9733\n",
      "Epoch 190/200\n",
      "959/959 [==============================] - 2s 2ms/step - loss: 0.0757 - accuracy: 0.9745\n",
      "Epoch 191/200\n",
      "959/959 [==============================] - 2s 2ms/step - loss: 0.0709 - accuracy: 0.9740\n",
      "Epoch 192/200\n",
      "959/959 [==============================] - 2s 2ms/step - loss: 0.0695 - accuracy: 0.9753\n",
      "Epoch 193/200\n",
      "959/959 [==============================] - 2s 2ms/step - loss: 0.0700 - accuracy: 0.9758\n",
      "Epoch 194/200\n",
      "959/959 [==============================] - 2s 2ms/step - loss: 0.0705 - accuracy: 0.9745\n",
      "Epoch 195/200\n",
      "959/959 [==============================] - 2s 2ms/step - loss: 0.0824 - accuracy: 0.9718\n",
      "Epoch 196/200\n",
      "959/959 [==============================] - 2s 2ms/step - loss: 0.0782 - accuracy: 0.9733\n",
      "Epoch 197/200\n",
      "959/959 [==============================] - 2s 2ms/step - loss: 0.0742 - accuracy: 0.9757\n",
      "Epoch 198/200\n",
      "959/959 [==============================] - 2s 2ms/step - loss: 0.0692 - accuracy: 0.9767\n",
      "Epoch 199/200\n",
      "959/959 [==============================] - 2s 2ms/step - loss: 0.0650 - accuracy: 0.9768\n",
      "Epoch 200/200\n",
      "959/959 [==============================] - 2s 2ms/step - loss: 0.0712 - accuracy: 0.9753\n"
     ]
    }
   ],
   "source": [
    "# Train model using training data\n",
    "nn_model_8.compile(loss=\"binary_crossentropy\", optimizer=\"adam\", metrics=[\"accuracy\"])\n",
    "fit_model_8 = nn_model_8.fit(scaled_X_train_df, y_train, epochs=200)"
   ]
  },
  {
   "cell_type": "code",
   "execution_count": 16,
   "id": "4b3b6ba4",
   "metadata": {},
   "outputs": [
    {
     "name": "stdout",
     "output_type": "stream",
     "text": [
      "320/320 - 1s - loss: 0.0875 - accuracy: 0.9670 - 609ms/epoch - 2ms/step\n",
      "Loss: 0.08754251152276993, Accuracy: 0.9670479893684387\n"
     ]
    }
   ],
   "source": [
    "# Evaluate model accuracy\n",
    "model_loss, model_accuracy = nn_model_8.evaluate(scaled_X_test_df, y_test, verbose=2)\n",
    "print(f\"Loss: {model_loss}, Accuracy: {model_accuracy}\")"
   ]
  },
  {
   "cell_type": "code",
   "execution_count": 17,
   "id": "0286a45f",
   "metadata": {},
   "outputs": [],
   "source": [
    "# Pickle model for later use in Flask\n",
    "import pickle\n",
    "filename = \"stroke_model.sav\"\n",
    "pickle.dump(nn_model_8, open(filename, \"wb\"))"
   ]
  },
  {
   "cell_type": "markdown",
   "id": "3544ae74",
   "metadata": {},
   "source": [
    "## Calculate mean and SD for each feature from training data to use in scaling of unseen data"
   ]
  },
  {
   "cell_type": "code",
   "execution_count": 18,
   "id": "1120844f",
   "metadata": {},
   "outputs": [
    {
     "name": "stdout",
     "output_type": "stream",
     "text": [
      "Age Mean: 51.42659713168188, Age STD: 21.60405630341289\n"
     ]
    }
   ],
   "source": [
    "# Calculate age mean and SD to use in scaling unseen data\n",
    "age_mean = X_train[\"age\"].mean()\n",
    "age_std = X_train[\"age\"].std()\n",
    "print(f\"Age Mean: {age_mean}, Age STD: {age_std}\")"
   ]
  },
  {
   "cell_type": "code",
   "execution_count": 19,
   "id": "19988876",
   "metadata": {},
   "outputs": [
    {
     "name": "stdout",
     "output_type": "stream",
     "text": [
      "Glucose Mean: 122.53588754889178, Glucose STD: 57.70449908538411\n"
     ]
    }
   ],
   "source": [
    "# Calculate glucose mean and SD to use in scaling unseen data\n",
    "glucose_mean = X_train[\"avg_glucose_level\"].mean()\n",
    "glucose_std = X_train[\"avg_glucose_level\"].std()\n",
    "print(f\"Glucose Mean: {glucose_mean}, Glucose STD: {glucose_std}\")"
   ]
  },
  {
   "cell_type": "code",
   "execution_count": 20,
   "id": "cece4e62",
   "metadata": {},
   "outputs": [
    {
     "name": "stdout",
     "output_type": "stream",
     "text": [
      "BMI Mean: 30.405097783572355, BMI STD: 6.78945886003209\n"
     ]
    }
   ],
   "source": [
    "# Calculate BMI mean and SD to use in scaling unseen data\n",
    "bmi_mean = X_train[\"bmi\"].mean()\n",
    "bmi_std = X_train[\"bmi\"].std()\n",
    "print(f\"BMI Mean: {bmi_mean}, BMI STD: {bmi_std}\")"
   ]
  },
  {
   "cell_type": "code",
   "execution_count": 21,
   "id": "429220a4",
   "metadata": {},
   "outputs": [
    {
     "name": "stdout",
     "output_type": "stream",
     "text": [
      "Sex Mean: 0.5536179921773142, Sex STD: 0.4971248999023411\n"
     ]
    }
   ],
   "source": [
    "# Calculate sex mean and SD to use in scaling unseen data\n",
    "sex_mean = X_train[\"sex\"].mean()\n",
    "sex_std = X_train[\"sex\"].std()\n",
    "print(f\"Sex Mean: {sex_mean}, Sex STD: {sex_std}\")"
   ]
  },
  {
   "cell_type": "code",
   "execution_count": 22,
   "id": "79e07907",
   "metadata": {},
   "outputs": [
    {
     "name": "stdout",
     "output_type": "stream",
     "text": [
      "Hypertension Mean: 0.21404823989569752, Hypertension STD: 0.4101671299612824\n"
     ]
    }
   ],
   "source": [
    "# Calculate hypertension mean and SD to use in scaling unseen data\n",
    "hypertension_mean = X_train[\"hypertension\"].mean()\n",
    "hypertension_std = X_train[\"hypertension\"].std()\n",
    "print(f\"Hypertension Mean: {hypertension_mean}, Hypertension STD: {hypertension_std}\")"
   ]
  },
  {
   "cell_type": "code",
   "execution_count": 23,
   "id": "34f00070",
   "metadata": {},
   "outputs": [
    {
     "name": "stdout",
     "output_type": "stream",
     "text": [
      "Heart disease Mean: 0.12770534550195567, Heart disease STD: 0.33376686664892674\n"
     ]
    }
   ],
   "source": [
    "# Calculate heart disease mean and SD to use in scaling unseen data\n",
    "heart_disease_mean = X_train[\"heart_disease\"].mean()\n",
    "heart_disease_std = X_train[\"heart_disease\"].std()\n",
    "print(f\"Heart disease Mean: {heart_disease_mean}, Heart disease STD: {heart_disease_std}\")"
   ]
  },
  {
   "cell_type": "code",
   "execution_count": 24,
   "id": "c3dcc348",
   "metadata": {},
   "outputs": [
    {
     "name": "stdout",
     "output_type": "stream",
     "text": [
      "Smoker Mean: 0.49009126466753583, Smoker STD: 0.4999099545521639\n"
     ]
    }
   ],
   "source": [
    "# Calculate smoking mean and SD to use in scaling unseen data\n",
    "smoker_mean = X_train[\"smoking_status\"].mean()\n",
    "smoker_std = X_train[\"smoking_status\"].std()\n",
    "print(f\"Smoker Mean: {smoker_mean}, Smoker STD: {smoker_std}\")"
   ]
  },
  {
   "cell_type": "markdown",
   "id": "676b404c",
   "metadata": {},
   "source": [
    "## Create fake unseen data and test model usability"
   ]
  },
  {
   "cell_type": "code",
   "execution_count": 25,
   "id": "445ca3a8",
   "metadata": {},
   "outputs": [
    {
     "data": {
      "text/html": [
       "<div>\n",
       "<style scoped>\n",
       "    .dataframe tbody tr th:only-of-type {\n",
       "        vertical-align: middle;\n",
       "    }\n",
       "\n",
       "    .dataframe tbody tr th {\n",
       "        vertical-align: top;\n",
       "    }\n",
       "\n",
       "    .dataframe thead th {\n",
       "        text-align: right;\n",
       "    }\n",
       "</style>\n",
       "<table border=\"1\" class=\"dataframe\">\n",
       "  <thead>\n",
       "    <tr style=\"text-align: right;\">\n",
       "      <th></th>\n",
       "      <th>sex</th>\n",
       "      <th>Age_1</th>\n",
       "      <th>hypertension</th>\n",
       "      <th>Glucose_1</th>\n",
       "      <th>heart_disease</th>\n",
       "      <th>Smoking_status</th>\n",
       "      <th>BMI_1</th>\n",
       "    </tr>\n",
       "  </thead>\n",
       "  <tbody>\n",
       "    <tr>\n",
       "      <th>0</th>\n",
       "      <td>0</td>\n",
       "      <td>85</td>\n",
       "      <td>0</td>\n",
       "      <td>216.38</td>\n",
       "      <td>0</td>\n",
       "      <td>1</td>\n",
       "      <td>34.5</td>\n",
       "    </tr>\n",
       "  </tbody>\n",
       "</table>\n",
       "</div>"
      ],
      "text/plain": [
       "   sex  Age_1  hypertension  Glucose_1  heart_disease  Smoking_status  BMI_1\n",
       "0    0     85             0     216.38              0               1   34.5"
      ]
     },
     "execution_count": 25,
     "metadata": {},
     "output_type": "execute_result"
    }
   ],
   "source": [
    "# Create unseen features array with fake user input \n",
    "unseen_test_data = {\"sex\": [0], \"Age_1\": [85], \"hypertension\": [0], \"Glucose_1\": [216.38], \"heart_disease\": [0], \"Smoking_status\": [1], \"BMI_1\": [34.5]}\n",
    "unseen_test_data_df = pd.DataFrame(unseen_test_data)\n",
    "unseen_test_data_df"
   ]
  },
  {
   "cell_type": "code",
   "execution_count": 26,
   "id": "85f0afe7",
   "metadata": {},
   "outputs": [
    {
     "name": "stdout",
     "output_type": "stream",
     "text": [
      "[1.55403237]\n"
     ]
    }
   ],
   "source": [
    "# Scale age using mean and SD calculated from training data\n",
    "scaled_age = (unseen_test_data[\"Age_1\"] - age_mean) / age_std\n",
    "print(scaled_age)"
   ]
  },
  {
   "cell_type": "code",
   "execution_count": 27,
   "id": "b2351315",
   "metadata": {},
   "outputs": [
    {
     "name": "stdout",
     "output_type": "stream",
     "text": [
      "[1.62628762]\n"
     ]
    }
   ],
   "source": [
    "# Scaleglucose age using mean and SD calculated from training data\n",
    "scaled_glucose = (unseen_test_data[\"Glucose_1\"] - glucose_mean) / glucose_std\n",
    "print(scaled_glucose)"
   ]
  },
  {
   "cell_type": "code",
   "execution_count": 28,
   "id": "cb49f5c3",
   "metadata": {},
   "outputs": [
    {
     "name": "stdout",
     "output_type": "stream",
     "text": [
      "[0.60312645]\n"
     ]
    }
   ],
   "source": [
    "# Scale BMI using mean and SD calculated from training data\n",
    "scaled_bmi = (unseen_test_data[\"BMI_1\"] - bmi_mean) / bmi_std\n",
    "print(scaled_bmi)"
   ]
  },
  {
   "cell_type": "code",
   "execution_count": 29,
   "id": "8c42dfd2",
   "metadata": {},
   "outputs": [
    {
     "name": "stdout",
     "output_type": "stream",
     "text": [
      "[-1.11363964]\n"
     ]
    }
   ],
   "source": [
    "# Scale sex using mean and SD calculated from training data\n",
    "scaled_sex = (unseen_test_data[\"sex\"] - sex_mean) / sex_std\n",
    "print(scaled_sex)"
   ]
  },
  {
   "cell_type": "code",
   "execution_count": 30,
   "id": "3f9c2adb",
   "metadata": {},
   "outputs": [
    {
     "name": "stdout",
     "output_type": "stream",
     "text": [
      "[-0.52185615]\n"
     ]
    }
   ],
   "source": [
    "# Scale hypertension using mean and SD calculated from training data\n",
    "scaled_hypertension = (unseen_test_data[\"hypertension\"] - hypertension_mean) / hypertension_std\n",
    "print(scaled_hypertension)"
   ]
  },
  {
   "cell_type": "code",
   "execution_count": 31,
   "id": "91251f7c",
   "metadata": {},
   "outputs": [
    {
     "name": "stdout",
     "output_type": "stream",
     "text": [
      "[-0.3826184]\n"
     ]
    }
   ],
   "source": [
    "# Scale heart disease using mean and SD calculated from training data\n",
    "scaled_heart_disease = (unseen_test_data[\"heart_disease\"] - heart_disease_mean) / heart_disease_std\n",
    "print(scaled_heart_disease)"
   ]
  },
  {
   "cell_type": "code",
   "execution_count": 32,
   "id": "cca869df",
   "metadata": {},
   "outputs": [
    {
     "name": "stdout",
     "output_type": "stream",
     "text": [
      "[1.02000116]\n"
     ]
    }
   ],
   "source": [
    "# Scale smoking using mean and SD calculated from training data\n",
    "scaled_smoker = (unseen_test_data[\"Smoking_status\"] - smoker_mean) / smoker_std\n",
    "print(scaled_smoker)"
   ]
  },
  {
   "cell_type": "code",
   "execution_count": 33,
   "id": "7c57c2ee",
   "metadata": {},
   "outputs": [
    {
     "data": {
      "text/html": [
       "<div>\n",
       "<style scoped>\n",
       "    .dataframe tbody tr th:only-of-type {\n",
       "        vertical-align: middle;\n",
       "    }\n",
       "\n",
       "    .dataframe tbody tr th {\n",
       "        vertical-align: top;\n",
       "    }\n",
       "\n",
       "    .dataframe thead th {\n",
       "        text-align: right;\n",
       "    }\n",
       "</style>\n",
       "<table border=\"1\" class=\"dataframe\">\n",
       "  <thead>\n",
       "    <tr style=\"text-align: right;\">\n",
       "      <th></th>\n",
       "      <th>sex</th>\n",
       "      <th>age</th>\n",
       "      <th>hypertension</th>\n",
       "      <th>heart_disease</th>\n",
       "      <th>avg_glucose_level</th>\n",
       "      <th>bmi</th>\n",
       "      <th>smoking_status</th>\n",
       "    </tr>\n",
       "  </thead>\n",
       "  <tbody>\n",
       "    <tr>\n",
       "      <th>0</th>\n",
       "      <td>-1.11364</td>\n",
       "      <td>1.554032</td>\n",
       "      <td>-0.521856</td>\n",
       "      <td>-0.382618</td>\n",
       "      <td>1.626288</td>\n",
       "      <td>0.603126</td>\n",
       "      <td>1.020001</td>\n",
       "    </tr>\n",
       "  </tbody>\n",
       "</table>\n",
       "</div>"
      ],
      "text/plain": [
       "       sex       age  hypertension  heart_disease  avg_glucose_level  \\\n",
       "0 -1.11364  1.554032     -0.521856      -0.382618           1.626288   \n",
       "\n",
       "        bmi  smoking_status  \n",
       "0  0.603126        1.020001  "
      ]
     },
     "execution_count": 33,
     "metadata": {},
     "output_type": "execute_result"
    }
   ],
   "source": [
    "# Create DataFrame of scaled data\n",
    "scaled_unseen_df = pd.DataFrame({\"sex\": scaled_sex, \"age\": scaled_age, \"hypertension\": scaled_hypertension,\\\n",
    "                                \"heart_disease\": scaled_heart_disease, \"avg_glucose_level\": scaled_glucose,\\\n",
    "                                \"bmi\": scaled_bmi, \"smoking_status\": scaled_smoker})\n",
    "scaled_unseen_df"
   ]
  },
  {
   "cell_type": "code",
   "execution_count": 34,
   "id": "cf1528c9",
   "metadata": {},
   "outputs": [
    {
     "name": "stdout",
     "output_type": "stream",
     "text": [
      "1/1 [==============================] - 0s 74ms/step\n",
      "[[0.01184503]]\n"
     ]
    }
   ],
   "source": [
    "# Use model to generate prediction for unseen data\n",
    "result_final = nn_model_8.predict(scaled_unseen_df)\n",
    "print(result_final)"
   ]
  },
  {
   "cell_type": "code",
   "execution_count": null,
   "id": "34c32268",
   "metadata": {},
   "outputs": [],
   "source": []
  }
 ],
 "metadata": {
  "kernelspec": {
   "display_name": "Python 3 (ipykernel)",
   "language": "python",
   "name": "python3"
  },
  "language_info": {
   "codemirror_mode": {
    "name": "ipython",
    "version": 3
   },
   "file_extension": ".py",
   "mimetype": "text/x-python",
   "name": "python",
   "nbconvert_exporter": "python",
   "pygments_lexer": "ipython3",
   "version": "3.10.9"
  }
 },
 "nbformat": 4,
 "nbformat_minor": 5
}
